{
 "cells": [
  {
   "cell_type": "code",
   "execution_count": 219,
   "metadata": {},
   "outputs": [
    {
     "data": {
      "text/html": [
       "<table>\n",
       "<thead><tr><th scope=col>Site_ID</th><th scope=col>Longitude</th><th scope=col>Latitude</th><th scope=col>Month</th><th scope=col>MAG_Daily</th><th scope=col>Strava_Daily</th><th scope=col>Pop_per_sq_mile</th><th scope=col>Avg_segment_speed_limit</th><th scope=col>Bike_facility</th><th scope=col>Connectivity_to_other_segments</th><th scope=col>...</th><th scope=col>dist_to_green_space</th><th scope=col>dist_to_commercial_areas</th><th scope=col>dist_to_residential_areas</th><th scope=col>dist_to_public_transit</th><th scope=col>MEDIAN_AGE</th><th scope=col>MEDIAN_HOUSEHOLD_INCOME</th><th scope=col>PCT_BICYCLE</th><th scope=col>PCT_ONE_OR_MORE_VEH</th><th scope=col>PCT_NON_WHITE</th><th scope=col>EDU_ABV_HS</th></tr></thead>\n",
       "<tbody>\n",
       "\t<tr><td>1       </td><td>-112.29 </td><td>33.4789 </td><td>5       </td><td>10      </td><td>0       </td><td>5063.217</td><td>60      </td><td>1       </td><td>4       </td><td>...     </td><td>0.2884  </td><td>0.021   </td><td>0.0225  </td><td>0.2528  </td><td>39      </td><td>60250   </td><td>0       </td><td>32.7705 </td><td>21.24227</td><td>15.4871 </td></tr>\n",
       "\t<tr><td>1       </td><td>-112.29 </td><td>33.4789 </td><td>5       </td><td> 6      </td><td>0       </td><td>5063.217</td><td>60      </td><td>1       </td><td>4       </td><td>...     </td><td>0.2884  </td><td>0.021   </td><td>0.0225  </td><td>0.2528  </td><td>39      </td><td>60250   </td><td>0       </td><td>32.7705 </td><td>21.24227</td><td>15.4871 </td></tr>\n",
       "\t<tr><td>1       </td><td>-112.29 </td><td>33.4789 </td><td>5       </td><td> 9      </td><td>0       </td><td>5063.217</td><td>60      </td><td>1       </td><td>4       </td><td>...     </td><td>0.2884  </td><td>0.021   </td><td>0.0225  </td><td>0.2528  </td><td>39      </td><td>60250   </td><td>0       </td><td>32.7705 </td><td>21.24227</td><td>15.4871 </td></tr>\n",
       "\t<tr><td>1       </td><td>-112.29 </td><td>33.4789 </td><td>5       </td><td> 9      </td><td>0       </td><td>5063.217</td><td>60      </td><td>1       </td><td>4       </td><td>...     </td><td>0.2884  </td><td>0.021   </td><td>0.0225  </td><td>0.2528  </td><td>39      </td><td>60250   </td><td>0       </td><td>32.7705 </td><td>21.24227</td><td>15.4871 </td></tr>\n",
       "\t<tr><td>1       </td><td>-112.29 </td><td>33.4789 </td><td>5       </td><td> 8      </td><td>0       </td><td>5063.217</td><td>60      </td><td>1       </td><td>4       </td><td>...     </td><td>0.2884  </td><td>0.021   </td><td>0.0225  </td><td>0.2528  </td><td>39      </td><td>60250   </td><td>0       </td><td>32.7705 </td><td>21.24227</td><td>15.4871 </td></tr>\n",
       "\t<tr><td>1       </td><td>-112.29 </td><td>33.4789 </td><td>5       </td><td> 6      </td><td>0       </td><td>5063.217</td><td>60      </td><td>1       </td><td>4       </td><td>...     </td><td>0.2884  </td><td>0.021   </td><td>0.0225  </td><td>0.2528  </td><td>39      </td><td>60250   </td><td>0       </td><td>32.7705 </td><td>21.24227</td><td>15.4871 </td></tr>\n",
       "</tbody>\n",
       "</table>\n"
      ],
      "text/latex": [
       "\\begin{tabular}{r|llllllllllllllllllllll}\n",
       " Site\\_ID & Longitude & Latitude & Month & MAG\\_Daily & Strava\\_Daily & Pop\\_per\\_sq\\_mile & Avg\\_segment\\_speed\\_limit & Bike\\_facility & Connectivity\\_to\\_other\\_segments & ... & dist\\_to\\_green\\_space & dist\\_to\\_commercial\\_areas & dist\\_to\\_residential\\_areas & dist\\_to\\_public\\_transit & MEDIAN\\_AGE & MEDIAN\\_HOUSEHOLD\\_INCOME & PCT\\_BICYCLE & PCT\\_ONE\\_OR\\_MORE\\_VEH & PCT\\_NON\\_WHITE & EDU\\_ABV\\_HS\\\\\n",
       "\\hline\n",
       "\t 1        & -112.29  & 33.4789  & 5        & 10       & 0        & 5063.217 & 60       & 1        & 4        & ...      & 0.2884   & 0.021    & 0.0225   & 0.2528   & 39       & 60250    & 0        & 32.7705  & 21.24227 & 15.4871 \\\\\n",
       "\t 1        & -112.29  & 33.4789  & 5        &  6       & 0        & 5063.217 & 60       & 1        & 4        & ...      & 0.2884   & 0.021    & 0.0225   & 0.2528   & 39       & 60250    & 0        & 32.7705  & 21.24227 & 15.4871 \\\\\n",
       "\t 1        & -112.29  & 33.4789  & 5        &  9       & 0        & 5063.217 & 60       & 1        & 4        & ...      & 0.2884   & 0.021    & 0.0225   & 0.2528   & 39       & 60250    & 0        & 32.7705  & 21.24227 & 15.4871 \\\\\n",
       "\t 1        & -112.29  & 33.4789  & 5        &  9       & 0        & 5063.217 & 60       & 1        & 4        & ...      & 0.2884   & 0.021    & 0.0225   & 0.2528   & 39       & 60250    & 0        & 32.7705  & 21.24227 & 15.4871 \\\\\n",
       "\t 1        & -112.29  & 33.4789  & 5        &  8       & 0        & 5063.217 & 60       & 1        & 4        & ...      & 0.2884   & 0.021    & 0.0225   & 0.2528   & 39       & 60250    & 0        & 32.7705  & 21.24227 & 15.4871 \\\\\n",
       "\t 1        & -112.29  & 33.4789  & 5        &  6       & 0        & 5063.217 & 60       & 1        & 4        & ...      & 0.2884   & 0.021    & 0.0225   & 0.2528   & 39       & 60250    & 0        & 32.7705  & 21.24227 & 15.4871 \\\\\n",
       "\\end{tabular}\n"
      ],
      "text/markdown": [
       "\n",
       "Site_ID | Longitude | Latitude | Month | MAG_Daily | Strava_Daily | Pop_per_sq_mile | Avg_segment_speed_limit | Bike_facility | Connectivity_to_other_segments | ... | dist_to_green_space | dist_to_commercial_areas | dist_to_residential_areas | dist_to_public_transit | MEDIAN_AGE | MEDIAN_HOUSEHOLD_INCOME | PCT_BICYCLE | PCT_ONE_OR_MORE_VEH | PCT_NON_WHITE | EDU_ABV_HS | \n",
       "|---|---|---|---|---|---|\n",
       "| 1        | -112.29  | 33.4789  | 5        | 10       | 0        | 5063.217 | 60       | 1        | 4        | ...      | 0.2884   | 0.021    | 0.0225   | 0.2528   | 39       | 60250    | 0        | 32.7705  | 21.24227 | 15.4871  | \n",
       "| 1        | -112.29  | 33.4789  | 5        |  6       | 0        | 5063.217 | 60       | 1        | 4        | ...      | 0.2884   | 0.021    | 0.0225   | 0.2528   | 39       | 60250    | 0        | 32.7705  | 21.24227 | 15.4871  | \n",
       "| 1        | -112.29  | 33.4789  | 5        |  9       | 0        | 5063.217 | 60       | 1        | 4        | ...      | 0.2884   | 0.021    | 0.0225   | 0.2528   | 39       | 60250    | 0        | 32.7705  | 21.24227 | 15.4871  | \n",
       "| 1        | -112.29  | 33.4789  | 5        |  9       | 0        | 5063.217 | 60       | 1        | 4        | ...      | 0.2884   | 0.021    | 0.0225   | 0.2528   | 39       | 60250    | 0        | 32.7705  | 21.24227 | 15.4871  | \n",
       "| 1        | -112.29  | 33.4789  | 5        |  8       | 0        | 5063.217 | 60       | 1        | 4        | ...      | 0.2884   | 0.021    | 0.0225   | 0.2528   | 39       | 60250    | 0        | 32.7705  | 21.24227 | 15.4871  | \n",
       "| 1        | -112.29  | 33.4789  | 5        |  6       | 0        | 5063.217 | 60       | 1        | 4        | ...      | 0.2884   | 0.021    | 0.0225   | 0.2528   | 39       | 60250    | 0        | 32.7705  | 21.24227 | 15.4871  | \n",
       "\n",
       "\n"
      ],
      "text/plain": [
       "  Site_ID Longitude Latitude Month MAG_Daily Strava_Daily Pop_per_sq_mile\n",
       "1 1       -112.29   33.4789  5     10        0            5063.217       \n",
       "2 1       -112.29   33.4789  5      6        0            5063.217       \n",
       "3 1       -112.29   33.4789  5      9        0            5063.217       \n",
       "4 1       -112.29   33.4789  5      9        0            5063.217       \n",
       "5 1       -112.29   33.4789  5      8        0            5063.217       \n",
       "6 1       -112.29   33.4789  5      6        0            5063.217       \n",
       "  Avg_segment_speed_limit Bike_facility Connectivity_to_other_segments ...\n",
       "1 60                      1             4                              ...\n",
       "2 60                      1             4                              ...\n",
       "3 60                      1             4                              ...\n",
       "4 60                      1             4                              ...\n",
       "5 60                      1             4                              ...\n",
       "6 60                      1             4                              ...\n",
       "  dist_to_green_space dist_to_commercial_areas dist_to_residential_areas\n",
       "1 0.2884              0.021                    0.0225                   \n",
       "2 0.2884              0.021                    0.0225                   \n",
       "3 0.2884              0.021                    0.0225                   \n",
       "4 0.2884              0.021                    0.0225                   \n",
       "5 0.2884              0.021                    0.0225                   \n",
       "6 0.2884              0.021                    0.0225                   \n",
       "  dist_to_public_transit MEDIAN_AGE MEDIAN_HOUSEHOLD_INCOME PCT_BICYCLE\n",
       "1 0.2528                 39         60250                   0          \n",
       "2 0.2528                 39         60250                   0          \n",
       "3 0.2528                 39         60250                   0          \n",
       "4 0.2528                 39         60250                   0          \n",
       "5 0.2528                 39         60250                   0          \n",
       "6 0.2528                 39         60250                   0          \n",
       "  PCT_ONE_OR_MORE_VEH PCT_NON_WHITE EDU_ABV_HS\n",
       "1 32.7705             21.24227      15.4871   \n",
       "2 32.7705             21.24227      15.4871   \n",
       "3 32.7705             21.24227      15.4871   \n",
       "4 32.7705             21.24227      15.4871   \n",
       "5 32.7705             21.24227      15.4871   \n",
       "6 32.7705             21.24227      15.4871   "
      ]
     },
     "metadata": {},
     "output_type": "display_data"
    }
   ],
   "source": [
    "setwd(\"C:/Users/aroy29/Dropbox (ASU)/Strava Analysis/Data/MAG2016/Analysis_Generated_Data\")\n",
    "train_data = read.csv(\"MAG_train_data_GLM_global.csv\")\n",
    "#train_data$Month = as.factor(train_data$Month)\n",
    "#train_data$Avg_segment_speed_limit = as.factor(train_data$Avg_segment_speed_limit)\n",
    "head(train_data)"
   ]
  },
  {
   "cell_type": "code",
   "execution_count": 220,
   "metadata": {},
   "outputs": [
    {
     "data": {
      "text/html": [
       "<table>\n",
       "<thead><tr><th scope=col>Site_ID</th><th scope=col>Longitude</th><th scope=col>Latitude</th><th scope=col>Month</th><th scope=col>TBAG_Daily</th><th scope=col>Strava_Daily</th><th scope=col>Pop_per_sq_mile</th><th scope=col>Avg_segment_speed_limit</th><th scope=col>AADT</th><th scope=col>dist_to_green_space</th><th scope=col>dist_to_residential_areas</th><th scope=col>dist_to_commercial_areas</th><th scope=col>MEDIAN_AGE</th><th scope=col>MEDIAN_HOUSEHOLD_INCOME</th><th scope=col>PCT_BICYCLE</th><th scope=col>PCT_ONE_OR_MORE_VEH</th><th scope=col>PCT_NON_WHITE</th><th scope=col>EDU_ABV_HS</th></tr></thead>\n",
       "<tbody>\n",
       "\t<tr><td> 73      </td><td>-111.900 </td><td>33.40035 </td><td>4        </td><td>0.59375  </td><td>11       </td><td> 2582.491</td><td> 0       </td><td> 2771    </td><td>0.195    </td><td>0.000    </td><td>0.240    </td><td>55.1     </td><td>68125    </td><td>2.702703 </td><td>32.77311 </td><td>1.058977 </td><td>19.81065 </td></tr>\n",
       "\t<tr><td> 74      </td><td>-111.900 </td><td>33.40035 </td><td>4        </td><td>0.59375  </td><td>12       </td><td> 2582.491</td><td>65       </td><td> 8735    </td><td>0.195    </td><td>0.000    </td><td>0.240    </td><td>55.1     </td><td>68125    </td><td>2.702703 </td><td>32.77311 </td><td>1.058977 </td><td>19.81065 </td></tr>\n",
       "\t<tr><td> 88      </td><td>-111.909 </td><td>33.40015 </td><td>4        </td><td>1.65625  </td><td>33       </td><td>11237.651</td><td>75       </td><td>24936    </td><td>0.405    </td><td>0.006    </td><td>0.045    </td><td>27.3     </td><td>41892    </td><td>1.878914 </td><td>28.54610 </td><td>6.668760 </td><td>18.31754 </td></tr>\n",
       "\t<tr><td> 88      </td><td>-111.909 </td><td>33.40015 </td><td>4        </td><td>1.65625  </td><td>33       </td><td> 7888.915</td><td>75       </td><td>24936    </td><td>0.405    </td><td>0.006    </td><td>0.045    </td><td>30.6     </td><td>51026    </td><td>5.093168 </td><td>30.21027 </td><td>7.384824 </td><td>19.55347 </td></tr>\n",
       "\t<tr><td> 89      </td><td>-111.909 </td><td>33.40015 </td><td>4        </td><td>1.65625  </td><td>55       </td><td> 7888.915</td><td>75       </td><td>88072    </td><td>0.405    </td><td>0.006    </td><td>0.045    </td><td>30.6     </td><td>51026    </td><td>5.093168 </td><td>30.21027 </td><td>7.384824 </td><td>19.55347 </td></tr>\n",
       "\t<tr><td>106      </td><td>-111.940 </td><td>33.40010 </td><td>4        </td><td>0.81250  </td><td>24       </td><td> 7388.348</td><td>75       </td><td>19638    </td><td>1.305    </td><td>0.050    </td><td>0.000    </td><td>26.9     </td><td>57459    </td><td>8.531223 </td><td>32.41758 </td><td>4.221252 </td><td>19.73279 </td></tr>\n",
       "</tbody>\n",
       "</table>\n"
      ],
      "text/latex": [
       "\\begin{tabular}{r|llllllllllllllllll}\n",
       " Site\\_ID & Longitude & Latitude & Month & TBAG\\_Daily & Strava\\_Daily & Pop\\_per\\_sq\\_mile & Avg\\_segment\\_speed\\_limit & AADT & dist\\_to\\_green\\_space & dist\\_to\\_residential\\_areas & dist\\_to\\_commercial\\_areas & MEDIAN\\_AGE & MEDIAN\\_HOUSEHOLD\\_INCOME & PCT\\_BICYCLE & PCT\\_ONE\\_OR\\_MORE\\_VEH & PCT\\_NON\\_WHITE & EDU\\_ABV\\_HS\\\\\n",
       "\\hline\n",
       "\t  73       & -111.900  & 33.40035  & 4         & 0.59375   & 11        &  2582.491 &  0        &  2771     & 0.195     & 0.000     & 0.240     & 55.1      & 68125     & 2.702703  & 32.77311  & 1.058977  & 19.81065 \\\\\n",
       "\t  74       & -111.900  & 33.40035  & 4         & 0.59375   & 12        &  2582.491 & 65        &  8735     & 0.195     & 0.000     & 0.240     & 55.1      & 68125     & 2.702703  & 32.77311  & 1.058977  & 19.81065 \\\\\n",
       "\t  88       & -111.909  & 33.40015  & 4         & 1.65625   & 33        & 11237.651 & 75        & 24936     & 0.405     & 0.006     & 0.045     & 27.3      & 41892     & 1.878914  & 28.54610  & 6.668760  & 18.31754 \\\\\n",
       "\t  88       & -111.909  & 33.40015  & 4         & 1.65625   & 33        &  7888.915 & 75        & 24936     & 0.405     & 0.006     & 0.045     & 30.6      & 51026     & 5.093168  & 30.21027  & 7.384824  & 19.55347 \\\\\n",
       "\t  89       & -111.909  & 33.40015  & 4         & 1.65625   & 55        &  7888.915 & 75        & 88072     & 0.405     & 0.006     & 0.045     & 30.6      & 51026     & 5.093168  & 30.21027  & 7.384824  & 19.55347 \\\\\n",
       "\t 106       & -111.940  & 33.40010  & 4         & 0.81250   & 24        &  7388.348 & 75        & 19638     & 1.305     & 0.050     & 0.000     & 26.9      & 57459     & 8.531223  & 32.41758  & 4.221252  & 19.73279 \\\\\n",
       "\\end{tabular}\n"
      ],
      "text/markdown": [
       "\n",
       "Site_ID | Longitude | Latitude | Month | TBAG_Daily | Strava_Daily | Pop_per_sq_mile | Avg_segment_speed_limit | AADT | dist_to_green_space | dist_to_residential_areas | dist_to_commercial_areas | MEDIAN_AGE | MEDIAN_HOUSEHOLD_INCOME | PCT_BICYCLE | PCT_ONE_OR_MORE_VEH | PCT_NON_WHITE | EDU_ABV_HS | \n",
       "|---|---|---|---|---|---|\n",
       "|  73       | -111.900  | 33.40035  | 4         | 0.59375   | 11        |  2582.491 |  0        |  2771     | 0.195     | 0.000     | 0.240     | 55.1      | 68125     | 2.702703  | 32.77311  | 1.058977  | 19.81065  | \n",
       "|  74       | -111.900  | 33.40035  | 4         | 0.59375   | 12        |  2582.491 | 65        |  8735     | 0.195     | 0.000     | 0.240     | 55.1      | 68125     | 2.702703  | 32.77311  | 1.058977  | 19.81065  | \n",
       "|  88       | -111.909  | 33.40015  | 4         | 1.65625   | 33        | 11237.651 | 75        | 24936     | 0.405     | 0.006     | 0.045     | 27.3      | 41892     | 1.878914  | 28.54610  | 6.668760  | 18.31754  | \n",
       "|  88       | -111.909  | 33.40015  | 4         | 1.65625   | 33        |  7888.915 | 75        | 24936     | 0.405     | 0.006     | 0.045     | 30.6      | 51026     | 5.093168  | 30.21027  | 7.384824  | 19.55347  | \n",
       "|  89       | -111.909  | 33.40015  | 4         | 1.65625   | 55        |  7888.915 | 75        | 88072     | 0.405     | 0.006     | 0.045     | 30.6      | 51026     | 5.093168  | 30.21027  | 7.384824  | 19.55347  | \n",
       "| 106       | -111.940  | 33.40010  | 4         | 0.81250   | 24        |  7388.348 | 75        | 19638     | 1.305     | 0.050     | 0.000     | 26.9      | 57459     | 8.531223  | 32.41758  | 4.221252  | 19.73279  | \n",
       "\n",
       "\n"
      ],
      "text/plain": [
       "  Site_ID Longitude Latitude Month TBAG_Daily Strava_Daily Pop_per_sq_mile\n",
       "1  73     -111.900  33.40035 4     0.59375    11            2582.491      \n",
       "2  74     -111.900  33.40035 4     0.59375    12            2582.491      \n",
       "3  88     -111.909  33.40015 4     1.65625    33           11237.651      \n",
       "4  88     -111.909  33.40015 4     1.65625    33            7888.915      \n",
       "5  89     -111.909  33.40015 4     1.65625    55            7888.915      \n",
       "6 106     -111.940  33.40010 4     0.81250    24            7388.348      \n",
       "  Avg_segment_speed_limit AADT  dist_to_green_space dist_to_residential_areas\n",
       "1  0                       2771 0.195               0.000                    \n",
       "2 65                       8735 0.195               0.000                    \n",
       "3 75                      24936 0.405               0.006                    \n",
       "4 75                      24936 0.405               0.006                    \n",
       "5 75                      88072 0.405               0.006                    \n",
       "6 75                      19638 1.305               0.050                    \n",
       "  dist_to_commercial_areas MEDIAN_AGE MEDIAN_HOUSEHOLD_INCOME PCT_BICYCLE\n",
       "1 0.240                    55.1       68125                   2.702703   \n",
       "2 0.240                    55.1       68125                   2.702703   \n",
       "3 0.045                    27.3       41892                   1.878914   \n",
       "4 0.045                    30.6       51026                   5.093168   \n",
       "5 0.045                    30.6       51026                   5.093168   \n",
       "6 0.000                    26.9       57459                   8.531223   \n",
       "  PCT_ONE_OR_MORE_VEH PCT_NON_WHITE EDU_ABV_HS\n",
       "1 32.77311            1.058977      19.81065  \n",
       "2 32.77311            1.058977      19.81065  \n",
       "3 28.54610            6.668760      18.31754  \n",
       "4 30.21027            7.384824      19.55347  \n",
       "5 30.21027            7.384824      19.55347  \n",
       "6 32.41758            4.221252      19.73279  "
      ]
     },
     "metadata": {},
     "output_type": "display_data"
    }
   ],
   "source": [
    "test_data = read.csv(\"Tempe_TBAG_test_data.csv\")\n",
    "#test_data$Month = as.factor(test_data$Month)\n",
    "head(test_data)"
   ]
  },
  {
   "cell_type": "code",
   "execution_count": 221,
   "metadata": {},
   "outputs": [
    {
     "name": "stdout",
     "output_type": "stream",
     "text": [
      "'data.frame':\t479 obs. of  22 variables:\n",
      " $ Site_ID                       : int  1 1 1 1 1 1 1 1 1 1 ...\n",
      " $ Longitude                     : num  -112 -112 -112 -112 -112 ...\n",
      " $ Latitude                      : num  33.5 33.5 33.5 33.5 33.5 ...\n",
      " $ Month                         : int  5 5 5 5 5 5 5 5 5 5 ...\n",
      " $ MAG_Daily                     : int  10 6 9 9 8 6 4 8 5 12 ...\n",
      " $ Strava_Daily                  : int  0 0 0 0 0 0 0 0 0 0 ...\n",
      " $ Pop_per_sq_mile               : num  5063 5063 5063 5063 5063 ...\n",
      " $ Avg_segment_speed_limit       : num  60 60 60 60 60 60 60 60 60 60 ...\n",
      " $ Bike_facility                 : int  1 1 1 1 1 1 1 1 1 1 ...\n",
      " $ Connectivity_to_other_segments: int  4 4 4 4 4 4 4 4 4 4 ...\n",
      " $ PCT_VETERANS                  : num  4.92 4.92 4.92 4.92 4.92 ...\n",
      " $ AADT                          : num  10162 10162 10162 10162 10162 ...\n",
      " $ dist_to_green_space           : num  0.288 0.288 0.288 0.288 0.288 ...\n",
      " $ dist_to_commercial_areas      : num  0.021 0.021 0.021 0.021 0.021 0.021 0.021 0.021 0.021 0.021 ...\n",
      " $ dist_to_residential_areas     : num  0.0225 0.0225 0.0225 0.0225 0.0225 0.0225 0.0225 0.0225 0.0225 0.0225 ...\n",
      " $ dist_to_public_transit        : num  0.253 0.253 0.253 0.253 0.253 ...\n",
      " $ MEDIAN_AGE                    : num  39 39 39 39 39 39 39 39 39 39 ...\n",
      " $ MEDIAN_HOUSEHOLD_INCOME       : int  60250 60250 60250 60250 60250 60250 60250 60250 60250 60250 ...\n",
      " $ PCT_BICYCLE                   : num  0 0 0 0 0 0 0 0 0 0 ...\n",
      " $ PCT_ONE_OR_MORE_VEH           : num  32.8 32.8 32.8 32.8 32.8 ...\n",
      " $ PCT_NON_WHITE                 : num  21.2 21.2 21.2 21.2 21.2 ...\n",
      " $ EDU_ABV_HS                    : num  15.5 15.5 15.5 15.5 15.5 ...\n"
     ]
    }
   ],
   "source": [
    "str(train_data)"
   ]
  },
  {
   "cell_type": "code",
   "execution_count": 222,
   "metadata": {},
   "outputs": [
    {
     "name": "stdout",
     "output_type": "stream",
     "text": [
      "'data.frame':\t206 obs. of  18 variables:\n",
      " $ Site_ID                  : int  73 74 88 88 89 106 106 107 107 108 ...\n",
      " $ Longitude                : num  -112 -112 -112 -112 -112 ...\n",
      " $ Latitude                 : num  33.4 33.4 33.4 33.4 33.4 ...\n",
      " $ Month                    : int  4 4 4 4 4 4 4 4 4 4 ...\n",
      " $ TBAG_Daily               : num  0.594 0.594 1.656 1.656 1.656 ...\n",
      " $ Strava_Daily             : int  11 12 33 33 55 24 24 28 28 66 ...\n",
      " $ Pop_per_sq_mile          : num  2582 2582 11238 7889 7889 ...\n",
      " $ Avg_segment_speed_limit  : int  0 65 75 75 75 75 75 75 75 55 ...\n",
      " $ AADT                     : int  2771 8735 24936 24936 88072 19638 19638 43107 43107 14862 ...\n",
      " $ dist_to_green_space      : num  0.195 0.195 0.405 0.405 0.405 ...\n",
      " $ dist_to_residential_areas: num  0 0 0.006 0.006 0.006 0.05 0.05 0 0 0 ...\n",
      " $ dist_to_commercial_areas : num  0.24 0.24 0.045 0.045 0.045 0 0 0.004 0.004 0.004 ...\n",
      " $ MEDIAN_AGE               : num  55.1 55.1 27.3 30.6 30.6 26.9 32.6 26.9 32.6 26.9 ...\n",
      " $ MEDIAN_HOUSEHOLD_INCOME  : int  68125 68125 41892 51026 51026 57459 43232 57459 43232 57459 ...\n",
      " $ PCT_BICYCLE              : num  2.7 2.7 1.88 5.09 5.09 ...\n",
      " $ PCT_ONE_OR_MORE_VEH      : num  32.8 32.8 28.5 30.2 30.2 ...\n",
      " $ PCT_NON_WHITE            : num  1.06 1.06 6.67 7.38 7.38 ...\n",
      " $ EDU_ABV_HS               : num  19.8 19.8 18.3 19.6 19.6 ...\n"
     ]
    }
   ],
   "source": [
    "str(test_data)"
   ]
  },
  {
   "cell_type": "code",
   "execution_count": 223,
   "metadata": {},
   "outputs": [
    {
     "name": "stdout",
     "output_type": "stream",
     "text": [
      "'data.frame':\t479 obs. of  14 variables:\n",
      " $ Site_ID                  : int  1 1 1 1 1 1 1 1 1 1 ...\n",
      " $ Strava_Daily             : int  0 0 0 0 0 0 0 0 0 0 ...\n",
      " $ Pop_per_sq_mile          : num  5063 5063 5063 5063 5063 ...\n",
      " $ Avg_segment_speed_limit  : num  60 60 60 60 60 60 60 60 60 60 ...\n",
      " $ AADT                     : num  10162 10162 10162 10162 10162 ...\n",
      " $ dist_to_green_space      : num  0.288 0.288 0.288 0.288 0.288 ...\n",
      " $ dist_to_commercial_areas : num  0.021 0.021 0.021 0.021 0.021 0.021 0.021 0.021 0.021 0.021 ...\n",
      " $ dist_to_residential_areas: num  0.0225 0.0225 0.0225 0.0225 0.0225 0.0225 0.0225 0.0225 0.0225 0.0225 ...\n",
      " $ MEDIAN_AGE               : num  39 39 39 39 39 39 39 39 39 39 ...\n",
      " $ MEDIAN_HOUSEHOLD_INCOME  : int  60250 60250 60250 60250 60250 60250 60250 60250 60250 60250 ...\n",
      " $ PCT_BICYCLE              : num  0 0 0 0 0 0 0 0 0 0 ...\n",
      " $ PCT_ONE_OR_MORE_VEH      : num  32.8 32.8 32.8 32.8 32.8 ...\n",
      " $ PCT_NON_WHITE            : num  21.2 21.2 21.2 21.2 21.2 ...\n",
      " $ EDU_ABV_HS               : num  15.5 15.5 15.5 15.5 15.5 ...\n"
     ]
    }
   ],
   "source": [
    "MAG_Daily = train_data$MAG_Daily\n",
    "train_features = train_data[,-c(2:5,9:11,16)]\n",
    "#train_features$Avg_segment_speed_limit = as.factor(train_features$Avg_segment_speed_limit)\n",
    "str(train_features)"
   ]
  },
  {
   "cell_type": "code",
   "execution_count": 224,
   "metadata": {},
   "outputs": [
    {
     "name": "stdout",
     "output_type": "stream",
     "text": [
      "'data.frame':\t206 obs. of  14 variables:\n",
      " $ Site_ID                  : int  73 74 88 88 89 106 106 107 107 108 ...\n",
      " $ Strava_Daily             : int  11 12 33 33 55 24 24 28 28 66 ...\n",
      " $ Pop_per_sq_mile          : num  2582 2582 11238 7889 7889 ...\n",
      " $ Avg_segment_speed_limit  : int  0 65 75 75 75 75 75 75 75 55 ...\n",
      " $ AADT                     : int  2771 8735 24936 24936 88072 19638 19638 43107 43107 14862 ...\n",
      " $ dist_to_green_space      : num  0.195 0.195 0.405 0.405 0.405 ...\n",
      " $ dist_to_residential_areas: num  0 0 0.006 0.006 0.006 0.05 0.05 0 0 0 ...\n",
      " $ dist_to_commercial_areas : num  0.24 0.24 0.045 0.045 0.045 0 0 0.004 0.004 0.004 ...\n",
      " $ MEDIAN_AGE               : num  55.1 55.1 27.3 30.6 30.6 26.9 32.6 26.9 32.6 26.9 ...\n",
      " $ MEDIAN_HOUSEHOLD_INCOME  : int  68125 68125 41892 51026 51026 57459 43232 57459 43232 57459 ...\n",
      " $ PCT_BICYCLE              : num  2.7 2.7 1.88 5.09 5.09 ...\n",
      " $ PCT_ONE_OR_MORE_VEH      : num  32.8 32.8 28.5 30.2 30.2 ...\n",
      " $ PCT_NON_WHITE            : num  1.06 1.06 6.67 7.38 7.38 ...\n",
      " $ EDU_ABV_HS               : num  19.8 19.8 18.3 19.6 19.6 ...\n"
     ]
    }
   ],
   "source": [
    "TBAG_Daily = test_data$TBAG_Daily\n",
    "test_features = test_data[,-c(2:5)]\n",
    "#test_features$Avg_segment_speed_limit = as.factor(test_features$Avg_segment_speed_limit)\n",
    "str(test_features)"
   ]
  },
  {
   "cell_type": "code",
   "execution_count": 225,
   "metadata": {},
   "outputs": [
    {
     "data": {
      "text/html": [
       "<table>\n",
       "<thead><tr><th scope=col>Site_ID</th><th scope=col>Strava_Daily</th><th scope=col>Pop_per_sq_mile</th><th scope=col>Avg_segment_speed_limit</th><th scope=col>AADT</th><th scope=col>dist_to_green_space</th><th scope=col>dist_to_residential_areas</th><th scope=col>dist_to_commercial_areas</th><th scope=col>MEDIAN_AGE</th><th scope=col>MEDIAN_HOUSEHOLD_INCOME</th><th scope=col>PCT_BICYCLE</th><th scope=col>PCT_ONE_OR_MORE_VEH</th><th scope=col>PCT_NON_WHITE</th><th scope=col>EDU_ABV_HS</th><th scope=col>TBAG_Daily</th><th scope=col>predicted</th></tr></thead>\n",
       "<tbody>\n",
       "\t<tr><td> 73       </td><td>11        </td><td> 2582.491 </td><td> 0        </td><td> 2771     </td><td>0.195     </td><td>0.000     </td><td>0.240     </td><td>55.1      </td><td>68125     </td><td>2.702703  </td><td>32.77311  </td><td>1.058977  </td><td>19.81065  </td><td>0.59375   </td><td>  91.53633</td></tr>\n",
       "\t<tr><td> 74       </td><td>12        </td><td> 2582.491 </td><td>65        </td><td> 8735     </td><td>0.195     </td><td>0.000     </td><td>0.240     </td><td>55.1      </td><td>68125     </td><td>2.702703  </td><td>32.77311  </td><td>1.058977  </td><td>19.81065  </td><td>0.59375   </td><td>  63.05217</td></tr>\n",
       "\t<tr><td> 88       </td><td>33        </td><td>11237.651 </td><td>75        </td><td>24936     </td><td>0.405     </td><td>0.006     </td><td>0.045     </td><td>27.3      </td><td>41892     </td><td>1.878914  </td><td>28.54610  </td><td>6.668760  </td><td>18.31754  </td><td>1.65625   </td><td> 146.38015</td></tr>\n",
       "\t<tr><td> 88       </td><td>33        </td><td> 7888.915 </td><td>75        </td><td>24936     </td><td>0.405     </td><td>0.006     </td><td>0.045     </td><td>30.6      </td><td>51026     </td><td>5.093168  </td><td>30.21027  </td><td>7.384824  </td><td>19.55347  </td><td>1.65625   </td><td> 207.24757</td></tr>\n",
       "\t<tr><td> 89       </td><td>55        </td><td> 7888.915 </td><td>75        </td><td>88072     </td><td>0.405     </td><td>0.006     </td><td>0.045     </td><td>30.6      </td><td>51026     </td><td>5.093168  </td><td>30.21027  </td><td>7.384824  </td><td>19.55347  </td><td>1.65625   </td><td>2200.31371</td></tr>\n",
       "\t<tr><td>106       </td><td>24        </td><td> 7388.348 </td><td>75        </td><td>19638     </td><td>1.305     </td><td>0.050     </td><td>0.000     </td><td>26.9      </td><td>57459     </td><td>8.531223  </td><td>32.41758  </td><td>4.221252  </td><td>19.73279  </td><td>0.81250   </td><td> 114.13061</td></tr>\n",
       "</tbody>\n",
       "</table>\n"
      ],
      "text/latex": [
       "\\begin{tabular}{r|llllllllllllllll}\n",
       " Site\\_ID & Strava\\_Daily & Pop\\_per\\_sq\\_mile & Avg\\_segment\\_speed\\_limit & AADT & dist\\_to\\_green\\_space & dist\\_to\\_residential\\_areas & dist\\_to\\_commercial\\_areas & MEDIAN\\_AGE & MEDIAN\\_HOUSEHOLD\\_INCOME & PCT\\_BICYCLE & PCT\\_ONE\\_OR\\_MORE\\_VEH & PCT\\_NON\\_WHITE & EDU\\_ABV\\_HS & TBAG\\_Daily & predicted\\\\\n",
       "\\hline\n",
       "\t  73        & 11         &  2582.491  &  0         &  2771      & 0.195      & 0.000      & 0.240      & 55.1       & 68125      & 2.702703   & 32.77311   & 1.058977   & 19.81065   & 0.59375    &   91.53633\\\\\n",
       "\t  74        & 12         &  2582.491  & 65         &  8735      & 0.195      & 0.000      & 0.240      & 55.1       & 68125      & 2.702703   & 32.77311   & 1.058977   & 19.81065   & 0.59375    &   63.05217\\\\\n",
       "\t  88        & 33         & 11237.651  & 75         & 24936      & 0.405      & 0.006      & 0.045      & 27.3       & 41892      & 1.878914   & 28.54610   & 6.668760   & 18.31754   & 1.65625    &  146.38015\\\\\n",
       "\t  88        & 33         &  7888.915  & 75         & 24936      & 0.405      & 0.006      & 0.045      & 30.6       & 51026      & 5.093168   & 30.21027   & 7.384824   & 19.55347   & 1.65625    &  207.24757\\\\\n",
       "\t  89        & 55         &  7888.915  & 75         & 88072      & 0.405      & 0.006      & 0.045      & 30.6       & 51026      & 5.093168   & 30.21027   & 7.384824   & 19.55347   & 1.65625    & 2200.31371\\\\\n",
       "\t 106        & 24         &  7388.348  & 75         & 19638      & 1.305      & 0.050      & 0.000      & 26.9       & 57459      & 8.531223   & 32.41758   & 4.221252   & 19.73279   & 0.81250    &  114.13061\\\\\n",
       "\\end{tabular}\n"
      ],
      "text/markdown": [
       "\n",
       "Site_ID | Strava_Daily | Pop_per_sq_mile | Avg_segment_speed_limit | AADT | dist_to_green_space | dist_to_residential_areas | dist_to_commercial_areas | MEDIAN_AGE | MEDIAN_HOUSEHOLD_INCOME | PCT_BICYCLE | PCT_ONE_OR_MORE_VEH | PCT_NON_WHITE | EDU_ABV_HS | TBAG_Daily | predicted | \n",
       "|---|---|---|---|---|---|\n",
       "|  73        | 11         |  2582.491  |  0         |  2771      | 0.195      | 0.000      | 0.240      | 55.1       | 68125      | 2.702703   | 32.77311   | 1.058977   | 19.81065   | 0.59375    |   91.53633 | \n",
       "|  74        | 12         |  2582.491  | 65         |  8735      | 0.195      | 0.000      | 0.240      | 55.1       | 68125      | 2.702703   | 32.77311   | 1.058977   | 19.81065   | 0.59375    |   63.05217 | \n",
       "|  88        | 33         | 11237.651  | 75         | 24936      | 0.405      | 0.006      | 0.045      | 27.3       | 41892      | 1.878914   | 28.54610   | 6.668760   | 18.31754   | 1.65625    |  146.38015 | \n",
       "|  88        | 33         |  7888.915  | 75         | 24936      | 0.405      | 0.006      | 0.045      | 30.6       | 51026      | 5.093168   | 30.21027   | 7.384824   | 19.55347   | 1.65625    |  207.24757 | \n",
       "|  89        | 55         |  7888.915  | 75         | 88072      | 0.405      | 0.006      | 0.045      | 30.6       | 51026      | 5.093168   | 30.21027   | 7.384824   | 19.55347   | 1.65625    | 2200.31371 | \n",
       "| 106        | 24         |  7388.348  | 75         | 19638      | 1.305      | 0.050      | 0.000      | 26.9       | 57459      | 8.531223   | 32.41758   | 4.221252   | 19.73279   | 0.81250    |  114.13061 | \n",
       "\n",
       "\n"
      ],
      "text/plain": [
       "  Site_ID Strava_Daily Pop_per_sq_mile Avg_segment_speed_limit AADT \n",
       "1  73     11            2582.491        0                       2771\n",
       "2  74     12            2582.491       65                       8735\n",
       "3  88     33           11237.651       75                      24936\n",
       "4  88     33            7888.915       75                      24936\n",
       "5  89     55            7888.915       75                      88072\n",
       "6 106     24            7388.348       75                      19638\n",
       "  dist_to_green_space dist_to_residential_areas dist_to_commercial_areas\n",
       "1 0.195               0.000                     0.240                   \n",
       "2 0.195               0.000                     0.240                   \n",
       "3 0.405               0.006                     0.045                   \n",
       "4 0.405               0.006                     0.045                   \n",
       "5 0.405               0.006                     0.045                   \n",
       "6 1.305               0.050                     0.000                   \n",
       "  MEDIAN_AGE MEDIAN_HOUSEHOLD_INCOME PCT_BICYCLE PCT_ONE_OR_MORE_VEH\n",
       "1 55.1       68125                   2.702703    32.77311           \n",
       "2 55.1       68125                   2.702703    32.77311           \n",
       "3 27.3       41892                   1.878914    28.54610           \n",
       "4 30.6       51026                   5.093168    30.21027           \n",
       "5 30.6       51026                   5.093168    30.21027           \n",
       "6 26.9       57459                   8.531223    32.41758           \n",
       "  PCT_NON_WHITE EDU_ABV_HS TBAG_Daily predicted \n",
       "1 1.058977      19.81065   0.59375      91.53633\n",
       "2 1.058977      19.81065   0.59375      63.05217\n",
       "3 6.668760      18.31754   1.65625     146.38015\n",
       "4 7.384824      19.55347   1.65625     207.24757\n",
       "5 7.384824      19.55347   1.65625    2200.31371\n",
       "6 4.221252      19.73279   0.81250     114.13061"
      ]
     },
     "metadata": {},
     "output_type": "display_data"
    }
   ],
   "source": [
    "#Prepare train-test data\n",
    "train_Y = matrix(MAG_Daily)\n",
    "train_X = model.matrix(~.,train_features)\n",
    "test_X = model.matrix(~.,test_features)\n",
    "cvfit = cv.glmnet(train_X,train_Y,nfolds=5,family=\"poisson\")\n",
    "model.glmnet = glmnet(train_X,train_Y,lambda = cvfit$lambda.min,family=\"poisson\")\n",
    "pred_Y = predict(model.glmnet,test_X,type=\"response\")\n",
    "test_features$TBAG_Daily = TBAG_Daily\n",
    "test_features$predicted = pred_Y\n",
    "\n",
    "head(test_features)"
   ]
  },
  {
   "cell_type": "code",
   "execution_count": 226,
   "metadata": {},
   "outputs": [],
   "source": [
    "write.csv(test_features[,c(1,16)],\"TBAG_Predicted_GLMNET.csv\")"
   ]
  },
  {
   "cell_type": "code",
   "execution_count": 227,
   "metadata": {},
   "outputs": [
    {
     "data": {
      "image/png": "[encoded data removed]",
      "text/plain": [
       "plot without title"
      ]
     },
     "metadata": {},
     "output_type": "display_data"
    }
   ],
   "source": [
    "plot(TBAG_Daily,pred_Y,pch=16,col=\"blue\")\n",
    "abline(lm(pred_Y~TBAG_Daily),col=\"red\",lwd=3)"
   ]
  },
  {
   "cell_type": "code",
   "execution_count": 232,
   "metadata": {},
   "outputs": [
    {
     "data": {
      "text/plain": [
       "\n",
       "Call:\n",
       "glm(formula = MAG_Daily ~ ., family = poisson(link = log), data = train_features)\n",
       "\n",
       "Deviance Residuals: \n",
       "     Min        1Q    Median        3Q       Max  \n",
       "-10.9951   -3.5138   -0.8189    1.6930   19.2094  \n",
       "\n",
       "Coefficients:\n",
       "                            Estimate Std. Error z value Pr(>|z|)    \n",
       "(Intercept)                5.357e+00  1.140e-01  46.979  < 2e-16 ***\n",
       "Site_ID                   -4.445e-03  2.241e-04 -19.831  < 2e-16 ***\n",
       "Strava_Daily               4.178e-02  5.925e-04  70.517  < 2e-16 ***\n",
       "Pop_per_sq_mile           -4.911e-05  2.736e-06 -17.948  < 2e-16 ***\n",
       "Avg_segment_speed_limit   -7.827e-03  7.578e-04 -10.328  < 2e-16 ***\n",
       "AADT                       2.582e-05  8.670e-07  29.781  < 2e-16 ***\n",
       "dist_to_green_space       -5.521e-01  4.396e-02 -12.558  < 2e-16 ***\n",
       "dist_to_commercial_areas   1.290e+00  1.043e-01  12.372  < 2e-16 ***\n",
       "dist_to_residential_areas -1.599e+00  7.764e-02 -20.593  < 2e-16 ***\n",
       "MEDIAN_AGE                 5.785e-03  7.898e-04   7.325 2.39e-13 ***\n",
       "MEDIAN_HOUSEHOLD_INCOME   -1.190e-05  4.565e-07 -26.068  < 2e-16 ***\n",
       "PCT_BICYCLE                1.090e-01  3.482e-03  31.315  < 2e-16 ***\n",
       "PCT_ONE_OR_MORE_VEH       -2.656e-03  2.983e-03  -0.890    0.373    \n",
       "PCT_NON_WHITE             -3.189e-02  1.684e-03 -18.931  < 2e-16 ***\n",
       "EDU_ABV_HS                -1.044e-02  2.650e-03  -3.941 8.13e-05 ***\n",
       "---\n",
       "Signif. codes:  0 '***' 0.001 '**' 0.01 '*' 0.05 '.' 0.1 ' ' 1\n",
       "\n",
       "(Dispersion parameter for poisson family taken to be 1)\n",
       "\n",
       "    Null deviance: 24069  on 478  degrees of freedom\n",
       "Residual deviance: 11306  on 464  degrees of freedom\n",
       "AIC: 14033\n",
       "\n",
       "Number of Fisher Scoring iterations: 5\n"
      ]
     },
     "metadata": {},
     "output_type": "display_data"
    }
   ],
   "source": [
    "#Out-of sample predictions\n",
    "model2 = glm(MAG_Daily~.,data=train_features,family=poisson(link=log))\n",
    "summary(model2)"
   ]
  },
  {
   "cell_type": "code",
   "execution_count": 233,
   "metadata": {},
   "outputs": [
    {
     "data": {
      "text/html": [
       "<dl class=dl-horizontal>\n",
       "\t<dt>dist_to_residential_areas</dt>\n",
       "\t\t<dd>0.202127481117309</dd>\n",
       "\t<dt>dist_to_green_space</dt>\n",
       "\t\t<dd>0.575729921971541</dd>\n",
       "\t<dt>PCT_NON_WHITE</dt>\n",
       "\t\t<dd>0.968617763584706</dd>\n",
       "\t<dt>EDU_ABV_HS</dt>\n",
       "\t\t<dd>0.989610305648217</dd>\n",
       "\t<dt>Avg_segment_speed_limit</dt>\n",
       "\t\t<dd>0.99220386555705</dd>\n",
       "\t<dt>Site_ID</dt>\n",
       "\t\t<dd>0.995564963059948</dd>\n",
       "\t<dt>PCT_ONE_OR_MORE_VEH</dt>\n",
       "\t\t<dd>0.99734747328112</dd>\n",
       "\t<dt>Pop_per_sq_mile</dt>\n",
       "\t\t<dd>0.999950887692452</dd>\n",
       "\t<dt>MEDIAN_HOUSEHOLD_INCOME</dt>\n",
       "\t\t<dd>0.999988100803636</dd>\n",
       "\t<dt>AADT</dt>\n",
       "\t\t<dd>1.00002581978458</dd>\n",
       "\t<dt>MEDIAN_AGE</dt>\n",
       "\t\t<dd>1.00580200136131</dd>\n",
       "\t<dt>Strava_Daily</dt>\n",
       "\t\t<dd>1.04266906464537</dd>\n",
       "\t<dt>PCT_BICYCLE</dt>\n",
       "\t\t<dd>1.11521269071289</dd>\n",
       "\t<dt>dist_to_commercial_areas</dt>\n",
       "\t\t<dd>3.63454724142977</dd>\n",
       "\t<dt>(Intercept)</dt>\n",
       "\t\t<dd>212.131823717584</dd>\n",
       "</dl>\n"
      ],
      "text/latex": [
       "\\begin{description*}\n",
       "\\item[dist\\textbackslash{}\\_to\\textbackslash{}\\_residential\\textbackslash{}\\_areas] 0.202127481117309\n",
       "\\item[dist\\textbackslash{}\\_to\\textbackslash{}\\_green\\textbackslash{}\\_space] 0.575729921971541\n",
       "\\item[PCT\\textbackslash{}\\_NON\\textbackslash{}\\_WHITE] 0.968617763584706\n",
       "\\item[EDU\\textbackslash{}\\_ABV\\textbackslash{}\\_HS] 0.989610305648217\n",
       "\\item[Avg\\textbackslash{}\\_segment\\textbackslash{}\\_speed\\textbackslash{}\\_limit] 0.99220386555705\n",
       "\\item[Site\\textbackslash{}\\_ID] 0.995564963059948\n",
       "\\item[PCT\\textbackslash{}\\_ONE\\textbackslash{}\\_OR\\textbackslash{}\\_MORE\\textbackslash{}\\_VEH] 0.99734747328112\n",
       "\\item[Pop\\textbackslash{}\\_per\\textbackslash{}\\_sq\\textbackslash{}\\_mile] 0.999950887692452\n",
       "\\item[MEDIAN\\textbackslash{}\\_HOUSEHOLD\\textbackslash{}\\_INCOME] 0.999988100803636\n",
       "\\item[AADT] 1.00002581978458\n",
       "\\item[MEDIAN\\textbackslash{}\\_AGE] 1.00580200136131\n",
       "\\item[Strava\\textbackslash{}\\_Daily] 1.04266906464537\n",
       "\\item[PCT\\textbackslash{}\\_BICYCLE] 1.11521269071289\n",
       "\\item[dist\\textbackslash{}\\_to\\textbackslash{}\\_commercial\\textbackslash{}\\_areas] 3.63454724142977\n",
       "\\item[(Intercept)] 212.131823717584\n",
       "\\end{description*}\n"
      ],
      "text/markdown": [
       "dist_to_residential_areas\n",
       ":   0.202127481117309dist_to_green_space\n",
       ":   0.575729921971541PCT_NON_WHITE\n",
       ":   0.968617763584706EDU_ABV_HS\n",
       ":   0.989610305648217Avg_segment_speed_limit\n",
       ":   0.99220386555705Site_ID\n",
       ":   0.995564963059948PCT_ONE_OR_MORE_VEH\n",
       ":   0.99734747328112Pop_per_sq_mile\n",
       ":   0.999950887692452MEDIAN_HOUSEHOLD_INCOME\n",
       ":   0.999988100803636AADT\n",
       ":   1.00002581978458MEDIAN_AGE\n",
       ":   1.00580200136131Strava_Daily\n",
       ":   1.04266906464537PCT_BICYCLE\n",
       ":   1.11521269071289dist_to_commercial_areas\n",
       ":   3.63454724142977(Intercept)\n",
       ":   212.131823717584\n",
       "\n"
      ],
      "text/plain": [
       "dist_to_residential_areas       dist_to_green_space             PCT_NON_WHITE \n",
       "                0.2021275                 0.5757299                 0.9686178 \n",
       "               EDU_ABV_HS   Avg_segment_speed_limit                   Site_ID \n",
       "                0.9896103                 0.9922039                 0.9955650 \n",
       "      PCT_ONE_OR_MORE_VEH           Pop_per_sq_mile   MEDIAN_HOUSEHOLD_INCOME \n",
       "                0.9973475                 0.9999509                 0.9999881 \n",
       "                     AADT                MEDIAN_AGE              Strava_Daily \n",
       "                1.0000258                 1.0058020                 1.0426691 \n",
       "              PCT_BICYCLE  dist_to_commercial_areas               (Intercept) \n",
       "                1.1152127                 3.6345472               212.1318237 "
      ]
     },
     "metadata": {},
     "output_type": "display_data"
    }
   ],
   "source": [
    "sort(exp(coef(model2)))"
   ]
  },
  {
   "cell_type": "code",
   "execution_count": 208,
   "metadata": {},
   "outputs": [
    {
     "data": {
      "image/png": "[encoded data removed]",
      "text/plain": [
       "Plot with title \"\""
      ]
     },
     "metadata": {},
     "output_type": "display_data"
    },
    {
     "data": {
      "image/png": "[encoded data removed]",
      "text/plain": [
       "Plot with title \"\""
      ]
     },
     "metadata": {},
     "output_type": "display_data"
    },
    {
     "data": {
      "image/png": "[encoded data removed]",
      "text/plain": [
       "Plot with title \"\""
      ]
     },
     "metadata": {},
     "output_type": "display_data"
    },
    {
     "data": {
      "image/png": "[encoded data removed]",
      "text/plain": [
       "Plot with title \"\""
      ]
     },
     "metadata": {},
     "output_type": "display_data"
    }
   ],
   "source": [
    "plot(model2)"
   ]
  },
  {
   "cell_type": "code",
   "execution_count": 209,
   "metadata": {},
   "outputs": [],
   "source": [
    "test_features$predicted_GLM = predict(model2,test_features,type=\"response\")"
   ]
  },
  {
   "cell_type": "code",
   "execution_count": 210,
   "metadata": {},
   "outputs": [
    {
     "data": {
      "text/html": [
       "<table>\n",
       "<thead><tr><th scope=col>Site_ID</th><th scope=col>Longitude</th><th scope=col>Latitude</th><th scope=col>Strava_Daily</th><th scope=col>Pop_per_sq_mile</th><th scope=col>Avg_segment_speed_limit</th><th scope=col>AADT</th><th scope=col>dist_to_green_space</th><th scope=col>dist_to_residential_areas</th><th scope=col>dist_to_commercial_areas</th><th scope=col>MEDIAN_AGE</th><th scope=col>MEDIAN_HOUSEHOLD_INCOME</th><th scope=col>PCT_BICYCLE</th><th scope=col>PCT_ONE_OR_MORE_VEH</th><th scope=col>PCT_NON_WHITE</th><th scope=col>EDU_ABV_HS</th><th scope=col>TBAG_Daily</th><th scope=col>predicted</th><th scope=col>predicted_GLM</th></tr></thead>\n",
       "<tbody>\n",
       "\t<tr><td> 73       </td><td>-111.900  </td><td>33.40035  </td><td>11        </td><td> 2582.491 </td><td> 0        </td><td> 2771     </td><td>0.195     </td><td>0.000     </td><td>0.240     </td><td>55.1      </td><td>68125     </td><td>2.702703  </td><td>32.77311  </td><td>1.058977  </td><td>19.81065  </td><td>0.59375   </td><td> 249.55195</td><td> 360.57001</td></tr>\n",
       "\t<tr><td> 74       </td><td>-111.900  </td><td>33.40035  </td><td>12        </td><td> 2582.491 </td><td>65        </td><td> 8735     </td><td>0.195     </td><td>0.000     </td><td>0.240     </td><td>55.1      </td><td>68125     </td><td>2.702703  </td><td>32.77311  </td><td>1.058977  </td><td>19.81065  </td><td>0.59375   </td><td>  68.54435</td><td> 105.76319</td></tr>\n",
       "\t<tr><td> 88       </td><td>-111.909  </td><td>33.40015  </td><td>33        </td><td>11237.651 </td><td>75        </td><td>24936     </td><td>0.405     </td><td>0.006     </td><td>0.045     </td><td>27.3      </td><td>41892     </td><td>1.878914  </td><td>28.54610  </td><td>6.668760  </td><td>18.31754  </td><td>1.65625   </td><td> 104.29207</td><td> 110.94336</td></tr>\n",
       "\t<tr><td> 88       </td><td>-111.909  </td><td>33.40015  </td><td>33        </td><td> 7888.915 </td><td>75        </td><td>24936     </td><td>0.405     </td><td>0.006     </td><td>0.045     </td><td>30.6      </td><td>51026     </td><td>5.093168  </td><td>30.21027  </td><td>7.384824  </td><td>19.55347  </td><td>1.65625   </td><td> 142.90574</td><td> 157.59656</td></tr>\n",
       "\t<tr><td> 89       </td><td>-111.909  </td><td>33.40015  </td><td>55        </td><td> 7888.915 </td><td>75        </td><td>88072     </td><td>0.405     </td><td>0.006     </td><td>0.045     </td><td>30.6      </td><td>51026     </td><td>5.093168  </td><td>30.21027  </td><td>7.384824  </td><td>19.55347  </td><td>1.65625   </td><td>1319.11631</td><td>1511.65807</td></tr>\n",
       "\t<tr><td>106       </td><td>-111.940  </td><td>33.40010  </td><td>24        </td><td> 7388.348 </td><td>75        </td><td>19638     </td><td>1.305     </td><td>0.050     </td><td>0.000     </td><td>26.9      </td><td>57459     </td><td>8.531223  </td><td>32.41758  </td><td>4.221252  </td><td>19.73279  </td><td>0.81250   </td><td>  94.63200</td><td>  94.78221</td></tr>\n",
       "</tbody>\n",
       "</table>\n"
      ],
      "text/latex": [
       "\\begin{tabular}{r|lllllllllllllllllll}\n",
       " Site\\_ID & Longitude & Latitude & Strava\\_Daily & Pop\\_per\\_sq\\_mile & Avg\\_segment\\_speed\\_limit & AADT & dist\\_to\\_green\\_space & dist\\_to\\_residential\\_areas & dist\\_to\\_commercial\\_areas & MEDIAN\\_AGE & MEDIAN\\_HOUSEHOLD\\_INCOME & PCT\\_BICYCLE & PCT\\_ONE\\_OR\\_MORE\\_VEH & PCT\\_NON\\_WHITE & EDU\\_ABV\\_HS & TBAG\\_Daily & predicted & predicted\\_GLM\\\\\n",
       "\\hline\n",
       "\t  73        & -111.900   & 33.40035   & 11         &  2582.491  &  0         &  2771      & 0.195      & 0.000      & 0.240      & 55.1       & 68125      & 2.702703   & 32.77311   & 1.058977   & 19.81065   & 0.59375    &  249.55195 &  360.57001\\\\\n",
       "\t  74        & -111.900   & 33.40035   & 12         &  2582.491  & 65         &  8735      & 0.195      & 0.000      & 0.240      & 55.1       & 68125      & 2.702703   & 32.77311   & 1.058977   & 19.81065   & 0.59375    &   68.54435 &  105.76319\\\\\n",
       "\t  88        & -111.909   & 33.40015   & 33         & 11237.651  & 75         & 24936      & 0.405      & 0.006      & 0.045      & 27.3       & 41892      & 1.878914   & 28.54610   & 6.668760   & 18.31754   & 1.65625    &  104.29207 &  110.94336\\\\\n",
       "\t  88        & -111.909   & 33.40015   & 33         &  7888.915  & 75         & 24936      & 0.405      & 0.006      & 0.045      & 30.6       & 51026      & 5.093168   & 30.21027   & 7.384824   & 19.55347   & 1.65625    &  142.90574 &  157.59656\\\\\n",
       "\t  89        & -111.909   & 33.40015   & 55         &  7888.915  & 75         & 88072      & 0.405      & 0.006      & 0.045      & 30.6       & 51026      & 5.093168   & 30.21027   & 7.384824   & 19.55347   & 1.65625    & 1319.11631 & 1511.65807\\\\\n",
       "\t 106        & -111.940   & 33.40010   & 24         &  7388.348  & 75         & 19638      & 1.305      & 0.050      & 0.000      & 26.9       & 57459      & 8.531223   & 32.41758   & 4.221252   & 19.73279   & 0.81250    &   94.63200 &   94.78221\\\\\n",
       "\\end{tabular}\n"
      ],
      "text/markdown": [
       "\n",
       "Site_ID | Longitude | Latitude | Strava_Daily | Pop_per_sq_mile | Avg_segment_speed_limit | AADT | dist_to_green_space | dist_to_residential_areas | dist_to_commercial_areas | MEDIAN_AGE | MEDIAN_HOUSEHOLD_INCOME | PCT_BICYCLE | PCT_ONE_OR_MORE_VEH | PCT_NON_WHITE | EDU_ABV_HS | TBAG_Daily | predicted | predicted_GLM | \n",
       "|---|---|---|---|---|---|\n",
       "|  73        | -111.900   | 33.40035   | 11         |  2582.491  |  0         |  2771      | 0.195      | 0.000      | 0.240      | 55.1       | 68125      | 2.702703   | 32.77311   | 1.058977   | 19.81065   | 0.59375    |  249.55195 |  360.57001 | \n",
       "|  74        | -111.900   | 33.40035   | 12         |  2582.491  | 65         |  8735      | 0.195      | 0.000      | 0.240      | 55.1       | 68125      | 2.702703   | 32.77311   | 1.058977   | 19.81065   | 0.59375    |   68.54435 |  105.76319 | \n",
       "|  88        | -111.909   | 33.40015   | 33         | 11237.651  | 75         | 24936      | 0.405      | 0.006      | 0.045      | 27.3       | 41892      | 1.878914   | 28.54610   | 6.668760   | 18.31754   | 1.65625    |  104.29207 |  110.94336 | \n",
       "|  88        | -111.909   | 33.40015   | 33         |  7888.915  | 75         | 24936      | 0.405      | 0.006      | 0.045      | 30.6       | 51026      | 5.093168   | 30.21027   | 7.384824   | 19.55347   | 1.65625    |  142.90574 |  157.59656 | \n",
       "|  89        | -111.909   | 33.40015   | 55         |  7888.915  | 75         | 88072      | 0.405      | 0.006      | 0.045      | 30.6       | 51026      | 5.093168   | 30.21027   | 7.384824   | 19.55347   | 1.65625    | 1319.11631 | 1511.65807 | \n",
       "| 106        | -111.940   | 33.40010   | 24         |  7388.348  | 75         | 19638      | 1.305      | 0.050      | 0.000      | 26.9       | 57459      | 8.531223   | 32.41758   | 4.221252   | 19.73279   | 0.81250    |   94.63200 |   94.78221 | \n",
       "\n",
       "\n"
      ],
      "text/plain": [
       "  Site_ID Longitude Latitude Strava_Daily Pop_per_sq_mile\n",
       "1  73     -111.900  33.40035 11            2582.491      \n",
       "2  74     -111.900  33.40035 12            2582.491      \n",
       "3  88     -111.909  33.40015 33           11237.651      \n",
       "4  88     -111.909  33.40015 33            7888.915      \n",
       "5  89     -111.909  33.40015 55            7888.915      \n",
       "6 106     -111.940  33.40010 24            7388.348      \n",
       "  Avg_segment_speed_limit AADT  dist_to_green_space dist_to_residential_areas\n",
       "1  0                       2771 0.195               0.000                    \n",
       "2 65                       8735 0.195               0.000                    \n",
       "3 75                      24936 0.405               0.006                    \n",
       "4 75                      24936 0.405               0.006                    \n",
       "5 75                      88072 0.405               0.006                    \n",
       "6 75                      19638 1.305               0.050                    \n",
       "  dist_to_commercial_areas MEDIAN_AGE MEDIAN_HOUSEHOLD_INCOME PCT_BICYCLE\n",
       "1 0.240                    55.1       68125                   2.702703   \n",
       "2 0.240                    55.1       68125                   2.702703   \n",
       "3 0.045                    27.3       41892                   1.878914   \n",
       "4 0.045                    30.6       51026                   5.093168   \n",
       "5 0.045                    30.6       51026                   5.093168   \n",
       "6 0.000                    26.9       57459                   8.531223   \n",
       "  PCT_ONE_OR_MORE_VEH PCT_NON_WHITE EDU_ABV_HS TBAG_Daily predicted \n",
       "1 32.77311            1.058977      19.81065   0.59375     249.55195\n",
       "2 32.77311            1.058977      19.81065   0.59375      68.54435\n",
       "3 28.54610            6.668760      18.31754   1.65625     104.29207\n",
       "4 30.21027            7.384824      19.55347   1.65625     142.90574\n",
       "5 30.21027            7.384824      19.55347   1.65625    1319.11631\n",
       "6 32.41758            4.221252      19.73279   0.81250      94.63200\n",
       "  predicted_GLM\n",
       "1  360.57001   \n",
       "2  105.76319   \n",
       "3  110.94336   \n",
       "4  157.59656   \n",
       "5 1511.65807   \n",
       "6   94.78221   "
      ]
     },
     "metadata": {},
     "output_type": "display_data"
    }
   ],
   "source": [
    "head(test_features)"
   ]
  },
  {
   "cell_type": "code",
   "execution_count": 211,
   "metadata": {},
   "outputs": [],
   "source": [
    "write.csv(test_features[,c(1,18)],\"Tempe_TBAG_Predicted_results_GLMnet.csv\")"
   ]
  }
 ],
 "metadata": {
  "kernelspec": {
   "display_name": "R",
   "language": "R",
   "name": "ir"
  },
  "language_info": {
   "codemirror_mode": "r",
   "file_extension": ".r",
   "mimetype": "text/x-r-source",
   "name": "R",
   "pygments_lexer": "r",
   "version": "3.4.2"
  }
 },
 "nbformat": 4,
 "nbformat_minor": 2
}
