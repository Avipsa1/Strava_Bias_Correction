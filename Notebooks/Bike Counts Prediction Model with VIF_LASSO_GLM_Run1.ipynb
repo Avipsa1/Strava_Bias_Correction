{
 "cells": [
  {
   "cell_type": "code",
   "execution_count": 1,
   "metadata": {},
   "outputs": [],
   "source": [
    "#Imports\n",
    "import pandas as pd\n",
    "import numpy as np\n",
    "from patsy import dmatrices\n",
    "import statsmodels.api as sm\n",
    "from statsmodels.stats.outliers_influence import variance_inflation_factor\n",
    "from sklearn.linear_model import RandomizedLasso,LassoCV,LassoLarsIC\n",
    "import seaborn as sns\n",
    "import os\n",
    "\n",
    "#Settin the working directory\n",
    "os.chdir(\"C:/Users/aroy29/Dropbox (ASU)/Strava Analysis/Data/MAG2016/Analysis_Generated_Data/MAG_Strava_Daily_counts\")\n",
    "#Function to calcualte Variance Inflation Factor\n",
    "def vif_calculation(df):\n",
    "    features = \"+\".join(df.columns)\n",
    "    y, X = dmatrices('MAG_Daily ~' + features, df, return_type='dataframe')\n",
    "    vif = pd.DataFrame()\n",
    "    vif[\"VIF_Factor\"] = [variance_inflation_factor(X.values, i) for i in range(X.shape[1])]\n",
    "    vif[\"features\"] = X.columns\n",
    "    vif = vif.round(3)\n",
    "    return vif\n",
    "\n",
    "# Function to obtain variable selection using LASSO on the chosen variables with VIF\n",
    "def lasso_var_select(df,VIF_features):\n",
    "    X = df[VIF_features]\n",
    "    Y = df[\"MAG_Daily\"]\n",
    "    names = X.columns\n",
    "    y=0\n",
    "    alpha,scores = [],[]\n",
    "    model_bic = LassoLarsIC(criterion='bic')\n",
    "    model_bic.fit(X, Y)\n",
    "    alpha_bic_ = model_bic.alpha_\n",
    "    low = alpha_bic_\n",
    "    high = alpha_bic_+0.15\n",
    "    for i in np.arange(low,high,0.005):\n",
    "        y= y+1\n",
    "        rlasso = RandomizedLasso(alpha=i)\n",
    "        rlasso = rlasso.fit(X, Y)\n",
    "        #print(names)\n",
    "        alpha.append(i)\n",
    "    rlasso = RandomizedLasso(alpha=np.mean(alpha))\n",
    "    rlasso = rlasso.fit(X, Y)\n",
    "    df=pd.DataFrame(sorted(zip(map(lambda x: round(x, 4), rlasso.scores_), \n",
    "                 names), reverse=True))\n",
    "    df.columns = [\"Rank\",\"Variable\"]\n",
    "    df[\"alpha\"] = np.mean(alpha)\n",
    "    return df"
   ]
  },
  {
   "cell_type": "code",
   "execution_count": 4,
   "metadata": {},
   "outputs": [
    {
     "data": {
      "text/html": [
       "<div>\n",
       "<table border=\"1\" class=\"dataframe\">\n",
       "  <thead>\n",
       "    <tr style=\"text-align: right;\">\n",
       "      <th></th>\n",
       "      <th>VIF_Factor</th>\n",
       "      <th>features</th>\n",
       "    </tr>\n",
       "  </thead>\n",
       "  <tbody>\n",
       "    <tr>\n",
       "      <th>0</th>\n",
       "      <td>586794.702</td>\n",
       "      <td>Intercept</td>\n",
       "    </tr>\n",
       "    <tr>\n",
       "      <th>1</th>\n",
       "      <td>4.700</td>\n",
       "      <td>AADT</td>\n",
       "    </tr>\n",
       "    <tr>\n",
       "      <th>2</th>\n",
       "      <td>1.597</td>\n",
       "      <td>Avg_segment_speed_limit</td>\n",
       "    </tr>\n",
       "    <tr>\n",
       "      <th>3</th>\n",
       "      <td>2.607</td>\n",
       "      <td>Count_Month</td>\n",
       "    </tr>\n",
       "    <tr>\n",
       "      <th>4</th>\n",
       "      <td>7.561</td>\n",
       "      <td>EDU_ABV_HS</td>\n",
       "    </tr>\n",
       "    <tr>\n",
       "      <th>5</th>\n",
       "      <td>12.931</td>\n",
       "      <td>EDU_BLW_HS</td>\n",
       "    </tr>\n",
       "    <tr>\n",
       "      <th>6</th>\n",
       "      <td>5.048</td>\n",
       "      <td>MEDIAN_AGE</td>\n",
       "    </tr>\n",
       "    <tr>\n",
       "      <th>7</th>\n",
       "      <td>8.060</td>\n",
       "      <td>MEDIAN_HOUSEHOLD_INCOME</td>\n",
       "    </tr>\n",
       "    <tr>\n",
       "      <th>8</th>\n",
       "      <td>2.360</td>\n",
       "      <td>PCT_BICYCLE</td>\n",
       "    </tr>\n",
       "    <tr>\n",
       "      <th>9</th>\n",
       "      <td>115.740</td>\n",
       "      <td>PCT_NON_WHITE</td>\n",
       "    </tr>\n",
       "    <tr>\n",
       "      <th>10</th>\n",
       "      <td>11366.726</td>\n",
       "      <td>PCT_NO_VEHICLE</td>\n",
       "    </tr>\n",
       "    <tr>\n",
       "      <th>11</th>\n",
       "      <td>11600.860</td>\n",
       "      <td>PCT_ONE_OR_MORE_VEH</td>\n",
       "    </tr>\n",
       "    <tr>\n",
       "      <th>12</th>\n",
       "      <td>7.611</td>\n",
       "      <td>PCT_PUBLIC_TRANSPORTATION</td>\n",
       "    </tr>\n",
       "    <tr>\n",
       "      <th>13</th>\n",
       "      <td>3.840</td>\n",
       "      <td>PCT_VETERANS</td>\n",
       "    </tr>\n",
       "    <tr>\n",
       "      <th>14</th>\n",
       "      <td>20.909</td>\n",
       "      <td>PCT_WALKED</td>\n",
       "    </tr>\n",
       "    <tr>\n",
       "      <th>15</th>\n",
       "      <td>77.206</td>\n",
       "      <td>PCT_WHITE_NONHISP</td>\n",
       "    </tr>\n",
       "    <tr>\n",
       "      <th>16</th>\n",
       "      <td>3.736</td>\n",
       "      <td>Pop_per_sq_mile</td>\n",
       "    </tr>\n",
       "    <tr>\n",
       "      <th>17</th>\n",
       "      <td>1.066</td>\n",
       "      <td>Strava_Daily</td>\n",
       "    </tr>\n",
       "    <tr>\n",
       "      <th>18</th>\n",
       "      <td>2.502</td>\n",
       "      <td>dist_to_commercial_areas</td>\n",
       "    </tr>\n",
       "    <tr>\n",
       "      <th>19</th>\n",
       "      <td>2.691</td>\n",
       "      <td>dist_to_green_space</td>\n",
       "    </tr>\n",
       "    <tr>\n",
       "      <th>20</th>\n",
       "      <td>3.410</td>\n",
       "      <td>dist_to_residential_areas</td>\n",
       "    </tr>\n",
       "    <tr>\n",
       "      <th>21</th>\n",
       "      <td>1.407</td>\n",
       "      <td>edge_id</td>\n",
       "    </tr>\n",
       "  </tbody>\n",
       "</table>\n",
       "</div>"
      ],
      "text/plain": [
       "    VIF_Factor                   features\n",
       "0   586794.702                  Intercept\n",
       "1        4.700                       AADT\n",
       "2        1.597    Avg_segment_speed_limit\n",
       "3        2.607                Count_Month\n",
       "4        7.561                 EDU_ABV_HS\n",
       "5       12.931                 EDU_BLW_HS\n",
       "6        5.048                 MEDIAN_AGE\n",
       "7        8.060    MEDIAN_HOUSEHOLD_INCOME\n",
       "8        2.360                PCT_BICYCLE\n",
       "9      115.740              PCT_NON_WHITE\n",
       "10   11366.726             PCT_NO_VEHICLE\n",
       "11   11600.860        PCT_ONE_OR_MORE_VEH\n",
       "12       7.611  PCT_PUBLIC_TRANSPORTATION\n",
       "13       3.840               PCT_VETERANS\n",
       "14      20.909                 PCT_WALKED\n",
       "15      77.206          PCT_WHITE_NONHISP\n",
       "16       3.736            Pop_per_sq_mile\n",
       "17       1.066               Strava_Daily\n",
       "18       2.502   dist_to_commercial_areas\n",
       "19       2.691        dist_to_green_space\n",
       "20       3.410  dist_to_residential_areas\n",
       "21       1.407                    edge_id"
      ]
     },
     "execution_count": 4,
     "metadata": {},
     "output_type": "execute_result"
    }
   ],
   "source": [
    "train_data = pd.read_csv('Strava_MAG_counts_with_covariates.csv',index_col=None)\n",
    "MAG_Daily = train_data[[\"MAG_Daily\"]]\n",
    "df1 = train_data[train_data.columns.difference(['MAG_Daily','ID','Site_ID',\n",
    "                                                'Count_Day','Count_Season',\n",
    "                                                'Sidewalk_factor','Bike_facility',\n",
    "                                                'Connectivity_to_other_segments','Diff_pct'])]\n",
    "vif_calculation(df1)"
   ]
  },
  {
   "cell_type": "code",
   "execution_count": 6,
   "metadata": {},
   "outputs": [
    {
     "data": {
      "text/html": [
       "<div>\n",
       "<table border=\"1\" class=\"dataframe\">\n",
       "  <thead>\n",
       "    <tr style=\"text-align: right;\">\n",
       "      <th></th>\n",
       "      <th>VIF_Factor</th>\n",
       "      <th>features</th>\n",
       "    </tr>\n",
       "  </thead>\n",
       "  <tbody>\n",
       "    <tr>\n",
       "      <th>0</th>\n",
       "      <td>353.330</td>\n",
       "      <td>Intercept</td>\n",
       "    </tr>\n",
       "    <tr>\n",
       "      <th>1</th>\n",
       "      <td>2.383</td>\n",
       "      <td>AADT</td>\n",
       "    </tr>\n",
       "    <tr>\n",
       "      <th>2</th>\n",
       "      <td>1.461</td>\n",
       "      <td>Avg_segment_speed_limit</td>\n",
       "    </tr>\n",
       "    <tr>\n",
       "      <th>3</th>\n",
       "      <td>2.495</td>\n",
       "      <td>Count_Month</td>\n",
       "    </tr>\n",
       "    <tr>\n",
       "      <th>4</th>\n",
       "      <td>2.339</td>\n",
       "      <td>EDU_ABV_HS</td>\n",
       "    </tr>\n",
       "    <tr>\n",
       "      <th>5</th>\n",
       "      <td>2.870</td>\n",
       "      <td>MEDIAN_AGE</td>\n",
       "    </tr>\n",
       "    <tr>\n",
       "      <th>6</th>\n",
       "      <td>6.832</td>\n",
       "      <td>MEDIAN_HOUSEHOLD_INCOME</td>\n",
       "    </tr>\n",
       "    <tr>\n",
       "      <th>7</th>\n",
       "      <td>1.541</td>\n",
       "      <td>PCT_BICYCLE</td>\n",
       "    </tr>\n",
       "    <tr>\n",
       "      <th>8</th>\n",
       "      <td>5.560</td>\n",
       "      <td>PCT_ONE_OR_MORE_VEH</td>\n",
       "    </tr>\n",
       "    <tr>\n",
       "      <th>9</th>\n",
       "      <td>2.694</td>\n",
       "      <td>PCT_VETERANS</td>\n",
       "    </tr>\n",
       "    <tr>\n",
       "      <th>10</th>\n",
       "      <td>2.846</td>\n",
       "      <td>PCT_WHITE_NONHISP</td>\n",
       "    </tr>\n",
       "    <tr>\n",
       "      <th>11</th>\n",
       "      <td>2.107</td>\n",
       "      <td>Pop_per_sq_mile</td>\n",
       "    </tr>\n",
       "    <tr>\n",
       "      <th>12</th>\n",
       "      <td>1.046</td>\n",
       "      <td>Strava_Daily</td>\n",
       "    </tr>\n",
       "    <tr>\n",
       "      <th>13</th>\n",
       "      <td>1.844</td>\n",
       "      <td>dist_to_commercial_areas</td>\n",
       "    </tr>\n",
       "    <tr>\n",
       "      <th>14</th>\n",
       "      <td>2.028</td>\n",
       "      <td>dist_to_green_space</td>\n",
       "    </tr>\n",
       "    <tr>\n",
       "      <th>15</th>\n",
       "      <td>3.267</td>\n",
       "      <td>dist_to_residential_areas</td>\n",
       "    </tr>\n",
       "    <tr>\n",
       "      <th>16</th>\n",
       "      <td>1.375</td>\n",
       "      <td>edge_id</td>\n",
       "    </tr>\n",
       "  </tbody>\n",
       "</table>\n",
       "</div>"
      ],
      "text/plain": [
       "    VIF_Factor                   features\n",
       "0      353.330                  Intercept\n",
       "1        2.383                       AADT\n",
       "2        1.461    Avg_segment_speed_limit\n",
       "3        2.495                Count_Month\n",
       "4        2.339                 EDU_ABV_HS\n",
       "5        2.870                 MEDIAN_AGE\n",
       "6        6.832    MEDIAN_HOUSEHOLD_INCOME\n",
       "7        1.541                PCT_BICYCLE\n",
       "8        5.560        PCT_ONE_OR_MORE_VEH\n",
       "9        2.694               PCT_VETERANS\n",
       "10       2.846          PCT_WHITE_NONHISP\n",
       "11       2.107            Pop_per_sq_mile\n",
       "12       1.046               Strava_Daily\n",
       "13       1.844   dist_to_commercial_areas\n",
       "14       2.028        dist_to_green_space\n",
       "15       3.267  dist_to_residential_areas\n",
       "16       1.375                    edge_id"
      ]
     },
     "execution_count": 6,
     "metadata": {},
     "output_type": "execute_result"
    }
   ],
   "source": [
    "# Removing variables that logically seem correlated\n",
    "df2 = df1[df1.columns.difference(['EDU_BLW_HS','PCT_WALKED','PCT_PUBLIC_TRANSPORTATION',\n",
    "                                  'PCT_NON_WHITE','PCT_NO_VEHICLE'])]\n",
    "vif_calculation(df2)"
   ]
  },
  {
   "cell_type": "code",
   "execution_count": 7,
   "metadata": {},
   "outputs": [
    {
     "name": "stdout",
     "output_type": "stream",
     "text": [
      "Index([u'Rank', u'Variable', u'alpha'], dtype='object')\n",
      "0.0738803375154\n"
     ]
    },
    {
     "data": {
      "image/png": "[encoded data removed]",
      "text/plain": [
       "<matplotlib.figure.Figure at 0xe2f4898>"
      ]
     },
     "metadata": {},
     "output_type": "display_data"
    }
   ],
   "source": [
    "vif_results = vif_calculation(df2)\n",
    "lasso_results = lasso_var_select(train_data,vif_results.features[1:].tolist())\n",
    "print(lasso_results.columns)\n",
    "xlab = lasso_results.columns[0]\n",
    "ylab = lasso_results.columns[1]\n",
    "print(np.mean(lasso_results.alpha))\n",
    "sns.set(rc={'figure.figsize':(15,10)},font_scale=2,style='white')\n",
    "sns.barplot(x=xlab,y=ylab,\n",
    "            data=lasso_results,color=\"black\").figure.savefig(\"LASSO_Output.png\",dpi=300)"
   ]
  },
  {
   "cell_type": "code",
   "execution_count": 33,
   "metadata": {},
   "outputs": [
    {
     "data": {
      "text/html": [
       "<div>\n",
       "<table border=\"1\" class=\"dataframe\">\n",
       "  <thead>\n",
       "    <tr style=\"text-align: right;\">\n",
       "      <th></th>\n",
       "      <th>edge_id</th>\n",
       "      <th>dist_to_green_space</th>\n",
       "      <th>MEDIAN_HOUSEHOLD_INCOME</th>\n",
       "      <th>Strava_Daily</th>\n",
       "      <th>dist_to_residential_areas</th>\n",
       "      <th>Avg_segment_speed_limit</th>\n",
       "      <th>PCT_NON_WHITE</th>\n",
       "      <th>PCT_ONE_OR_MORE_VEH</th>\n",
       "      <th>AADT</th>\n",
       "      <th>Pop_per_sq_mile</th>\n",
       "      <th>PCT_VETERANS</th>\n",
       "      <th>PCT_BICYCLE</th>\n",
       "      <th>MAG_Daily</th>\n",
       "    </tr>\n",
       "  </thead>\n",
       "  <tbody>\n",
       "    <tr>\n",
       "      <th>0</th>\n",
       "      <td>28482</td>\n",
       "      <td>0.2396</td>\n",
       "      <td>101131.0</td>\n",
       "      <td>9.230769</td>\n",
       "      <td>0.0291</td>\n",
       "      <td>60.0</td>\n",
       "      <td>3.194900</td>\n",
       "      <td>33.333300</td>\n",
       "      <td>6586.0000</td>\n",
       "      <td>390.2826</td>\n",
       "      <td>13.0186</td>\n",
       "      <td>0.000</td>\n",
       "      <td>78.0</td>\n",
       "    </tr>\n",
       "    <tr>\n",
       "      <th>1</th>\n",
       "      <td>91886</td>\n",
       "      <td>0.0000</td>\n",
       "      <td>65357.0</td>\n",
       "      <td>0.000000</td>\n",
       "      <td>0.0000</td>\n",
       "      <td>50.0</td>\n",
       "      <td>15.703050</td>\n",
       "      <td>33.333333</td>\n",
       "      <td>8979.0000</td>\n",
       "      <td>11881.6563</td>\n",
       "      <td>4.1068</td>\n",
       "      <td>0.000</td>\n",
       "      <td>59.0</td>\n",
       "    </tr>\n",
       "    <tr>\n",
       "      <th>2</th>\n",
       "      <td>117232</td>\n",
       "      <td>0.4039</td>\n",
       "      <td>96607.0</td>\n",
       "      <td>5.307692</td>\n",
       "      <td>0.0146</td>\n",
       "      <td>70.0</td>\n",
       "      <td>6.176475</td>\n",
       "      <td>33.333333</td>\n",
       "      <td>12418.5000</td>\n",
       "      <td>1261.8032</td>\n",
       "      <td>12.5227</td>\n",
       "      <td>0.000</td>\n",
       "      <td>47.0</td>\n",
       "    </tr>\n",
       "    <tr>\n",
       "      <th>3</th>\n",
       "      <td>126839</td>\n",
       "      <td>0.0000</td>\n",
       "      <td>40208.0</td>\n",
       "      <td>1.333333</td>\n",
       "      <td>0.0016</td>\n",
       "      <td>40.0</td>\n",
       "      <td>28.166800</td>\n",
       "      <td>29.933467</td>\n",
       "      <td>10039.0000</td>\n",
       "      <td>3219.7848</td>\n",
       "      <td>3.0093</td>\n",
       "      <td>0.000</td>\n",
       "      <td>49.0</td>\n",
       "    </tr>\n",
       "    <tr>\n",
       "      <th>4</th>\n",
       "      <td>129694</td>\n",
       "      <td>0.2040</td>\n",
       "      <td>41220.0</td>\n",
       "      <td>3.461538</td>\n",
       "      <td>0.0000</td>\n",
       "      <td>40.0</td>\n",
       "      <td>24.260350</td>\n",
       "      <td>27.554167</td>\n",
       "      <td>16900.6667</td>\n",
       "      <td>4564.1856</td>\n",
       "      <td>4.7967</td>\n",
       "      <td>5.994</td>\n",
       "      <td>55.0</td>\n",
       "    </tr>\n",
       "  </tbody>\n",
       "</table>\n",
       "</div>"
      ],
      "text/plain": [
       "   edge_id  dist_to_green_space  MEDIAN_HOUSEHOLD_INCOME  Strava_Daily  \\\n",
       "0    28482               0.2396                 101131.0      9.230769   \n",
       "1    91886               0.0000                  65357.0      0.000000   \n",
       "2   117232               0.4039                  96607.0      5.307692   \n",
       "3   126839               0.0000                  40208.0      1.333333   \n",
       "4   129694               0.2040                  41220.0      3.461538   \n",
       "\n",
       "   dist_to_residential_areas  Avg_segment_speed_limit  PCT_NON_WHITE  \\\n",
       "0                     0.0291                     60.0       3.194900   \n",
       "1                     0.0000                     50.0      15.703050   \n",
       "2                     0.0146                     70.0       6.176475   \n",
       "3                     0.0016                     40.0      28.166800   \n",
       "4                     0.0000                     40.0      24.260350   \n",
       "\n",
       "   PCT_ONE_OR_MORE_VEH        AADT  Pop_per_sq_mile  PCT_VETERANS  \\\n",
       "0            33.333300   6586.0000         390.2826       13.0186   \n",
       "1            33.333333   8979.0000       11881.6563        4.1068   \n",
       "2            33.333333  12418.5000        1261.8032       12.5227   \n",
       "3            29.933467  10039.0000        3219.7848        3.0093   \n",
       "4            27.554167  16900.6667        4564.1856        4.7967   \n",
       "\n",
       "   PCT_BICYCLE  MAG_Daily  \n",
       "0        0.000       78.0  \n",
       "1        0.000       59.0  \n",
       "2        0.000       47.0  \n",
       "3        0.000       49.0  \n",
       "4        5.994       55.0  "
      ]
     },
     "execution_count": 33,
     "metadata": {},
     "output_type": "execute_result"
    }
   ],
   "source": [
    "#Select variables with a rank above zero from LASSO output\n",
    "lasso_vars = lasso_results.query(\"Rank>0.07\")[\"Variable\"].tolist()\n",
    "lasso_vars.append('MAG_Daily')\n",
    "lasso_vars.append('edge_id')\n",
    "df_model_input = train_data[lasso_vars].groupby(['edge_id'],as_index=False).mean()\n",
    "df_model_input[\"MAG_Daily\"] = df_model_input.MAG_Daily.apply(lambda x: np.floor(x))\n",
    "df_model_input.head()"
   ]
  },
  {
   "cell_type": "code",
   "execution_count": 6,
   "metadata": {},
   "outputs": [],
   "source": [
    "#Write Outputs to Files\n",
    "os.chdir(\"C:/Users/aroy29/Dropbox (ASU)/Strava Analysis/Data/MAG2016/Analysis_Generated_Data/LASSO Results\")\n",
    "lasso_results.to_csv(\"LASSO_Output_April25_run2.csv\")\n",
    "os.chdir(\"C:/Users/aroy29/Dropbox (ASU)/Strava Analysis/Data/MAG2016/Analysis_Generated_Data/Model Input\")\n",
    "df_model_input.to_csv(\"GLM_Model_Input_April25_run2.csv\")"
   ]
  },
  {
   "cell_type": "code",
   "execution_count": 6,
   "metadata": {},
   "outputs": [],
   "source": [
    "#Function to run Generalized Linear Model on LASSO Features\n",
    "require(glmnet)\n",
    "require(boot)\n",
    "glm_output <- function(train,test){\n",
    "    predictors = train[,which(names(train)!=\"MAG_Daily\")]\n",
    "    #str(predictors)\n",
    "    features = model.matrix(~.,predictors)\n",
    "    newx = model.matrix(~.,test[,which(names(test)!=\"MAG_Daily\")])\n",
    "    target = matrix(train$MAG_Daily)\n",
    "    cvfit <- cv.glmnet(y = target, x = features, family=\"poisson\",nfolds = 100,alpha=1)\n",
    "    cvlambda = cvfit$lambda\n",
    "    cverror = cvfit$cvm\n",
    "    plot(cvfit)\n",
    "    lmin  <- cvfit$lambda.min\n",
    "    l1se  <- cvfit$lambda.1se\n",
    "    model.glmnet <- glmnet(y = target, x = features, family=\"poisson\")\n",
    "    #print(summary(model.glmnet))\n",
    "    print(exp(coef(model.glmnet, s = lmin)))\n",
    "    print(paste(\"Lambda for min Cross-validation error:\", lmin))\n",
    "    Predicted_Counts=predict(model.glmnet, newx, s=lmin, type = \"response\")\n",
    "    return(Predicted_Counts)\n",
    "}\n",
    "\n",
    "#Function to calculate root mean squared error after k-fold cross-validation\n",
    "options(warn=-1)\n",
    "rmse_calc <- function(y,yhat) {return(sqrt(sum((y-yhat)^2)))}\n",
    "model_error <- function(train_data){\n",
    "    j=1\n",
    "    score=c()\n",
    "    train_size=c()\n",
    "    rmse=c()\n",
    "    test_size=c()\n",
    "    set.seed(100)\n",
    "    for (i in seq(0.15,0.95,0.0005))\n",
    "        {\n",
    "        sample = sample.int(n = nrow(train_data), size = floor(i*nrow(train_data)), replace = F)\n",
    "        train_x = train_data[sample,-c(1,2,3,8,11)]\n",
    "        test_x = train_data[-sample,-c(1,2,3,8,11)]\n",
    "        true_Counts = train_data$MAG_Daily\n",
    "        model = glm(MAG_Daily~.,data=train_x,family=poisson(link=log))\n",
    "        cvfit = cv.glm(train_x,model,K=10)\n",
    "        yhat = predict(model,test_x,type=\"response\")\n",
    "        #test$predicted = yhat\n",
    "        score[j] = cvfit$delta[1]\n",
    "        train_size[j] = i\n",
    "        test_size[j] = 1-i\n",
    "        rmse[j] = rmse_calc(test_x$MAG_Daily,yhat[1])\n",
    "        j = j+1\n",
    "        }\n",
    "    errordf = data.frame(score,rmse,train_size,test_size)\n",
    "    accuracy = function(x){1-(x/max(errordf$rmse))}\n",
    "    errordf$rmse_pct = lapply(errordf$rmse,accuracy)\n",
    "    return(errordf)\n",
    "    }"
   ]
  },
  {
   "cell_type": "code",
   "execution_count": 2,
   "metadata": {},
   "outputs": [
    {
     "name": "stdout",
     "output_type": "stream",
     "text": [
      "'data.frame':\t338 obs. of  13 variables:\n",
      " $ X                        : int  0 1 2 3 4 5 6 7 8 9 ...\n",
      " $ edge_id                  : int  28482 91886 117232 126839 129694 129695 133980 375523 375524 379692 ...\n",
      " $ dist_to_green_space      : num  0.24 0 0.404 0 0.204 ...\n",
      " $ MEDIAN_HOUSEHOLD_INCOME  : num  101131 65357 96607 40208 41220 ...\n",
      " $ Strava_Daily             : num  9.23 0 5.31 1.33 3.46 ...\n",
      " $ Avg_segment_speed_limit  : num  60 50 70 40 40 40 40 64 64 40 ...\n",
      " $ dist_to_residential_areas: num  0.0291 0 0.0146 0.0016 0 ...\n",
      " $ PCT_NON_WHITE            : num  3.19 15.7 6.18 28.17 24.26 ...\n",
      " $ PCT_ONE_OR_MORE_VEH      : num  33.3 33.3 33.3 29.9 27.6 ...\n",
      " $ AADT                     : num  6586 8979 12418 10039 16901 ...\n",
      " $ Pop_per_sq_mile          : num  390 11882 1262 3220 4564 ...\n",
      " $ PCT_VETERANS             : num  13.02 4.11 12.52 3.01 4.8 ...\n",
      " $ MAG_Daily                : num  78 59 47 49 55 55 55 55 56 18 ...\n"
     ]
    }
   ],
   "source": [
    "library(boot)\n",
    "setwd(\"C:/Users/aroy29/Dropbox (ASU)/Strava Analysis/Data/MAG2016/Analysis_Generated_Data/Model Input\")\n",
    "train_data = read.csv(\"GLM_Model_Input_April25_run2.csv\")\n",
    "str(train_data)"
   ]
  },
  {
   "cell_type": "code",
   "execution_count": 7,
   "metadata": {
    "scrolled": false
   },
   "outputs": [
    {
     "name": "stdout",
     "output_type": "stream",
     "text": [
      "14 x 1 Matrix of class \"dgeMatrix\"\n",
      "                                     1\n",
      "(Intercept)               234.62281379\n",
      "(Intercept)                 1.00000000\n",
      "X                           0.99565564\n",
      "edge_id                     1.00000179\n",
      "dist_to_green_space         0.20210766\n",
      "MEDIAN_HOUSEHOLD_INCOME     0.99997581\n",
      "Strava_Daily                1.03548418\n",
      "Avg_segment_speed_limit     0.99778490\n",
      "dist_to_residential_areas   0.03316529\n",
      "PCT_NON_WHITE               0.96789020\n",
      "PCT_ONE_OR_MORE_VEH         1.01789794\n",
      "AADT                        1.00001501\n",
      "Pop_per_sq_mile             0.99995012\n",
      "PCT_VETERANS                1.00715776\n",
      "[1] \"Lambda for min Cross-validation error: 0.0493067336800375\"\n"
     ]
    },
    {
     "data": {
      "image/png": "[encoded data removed]",
      "text/plain": [
       "plot without title"
      ]
     },
     "metadata": {},
     "output_type": "display_data"
    },
    {
     "data": {
      "text/html": [
       "'R-squared: 0.7695'"
      ],
      "text/latex": [
       "'R-squared: 0.7695'"
      ],
      "text/markdown": [
       "'R-squared: 0.7695'"
      ],
      "text/plain": [
       "[1] \"R-squared: 0.7695\""
      ]
     },
     "metadata": {},
     "output_type": "display_data"
    },
    {
     "data": {
      "image/png": "[encoded data removed]",
      "text/plain": [
       "Plot with title \"Poisson Model Fit LASSO features -all data\""
      ]
     },
     "metadata": {},
     "output_type": "display_data"
    }
   ],
   "source": [
    "True_Counts = train_data$MAG_Daily\n",
    "Predicted_Counts = glm_output(train_data,train_data)\n",
    "#Predicted_Counts = rpois(length(Predicted_Counts1), lambda = Predicted_Counts1)\n",
    "plot(True_Counts,Predicted_Counts,pch=16,main=\"Poisson Model Fit LASSO features -all data\")\n",
    "lmfit1 = lm(Predicted_Counts~True_Counts)\n",
    "lmfit = lm(Predicted_Counts~True_Counts-1)\n",
    "abline(lmfit1,col=\"red\",lwd=3)\n",
    "paste('R-squared:',round(summary(lmfit)$r.squared,4))   "
   ]
  },
  {
   "cell_type": "code",
   "execution_count": 15,
   "metadata": {
    "scrolled": true
   },
   "outputs": [
    {
     "name": "stdout",
     "output_type": "stream",
     "text": [
      "'data.frame':\t47296 obs. of  13 variables:\n",
      " $ X                        : int  0 1 2 3 4 5 6 7 8 9 ...\n",
      " $ edge_id                  : int  381576 381576 381576 381576 381576 381576 381576 381576 381576 381576 ...\n",
      " $ dist_to_green_space      : num  0.028 0.028 0.028 0.028 0.028 0.028 0.028 0.028 0.028 0.028 ...\n",
      " $ MEDIAN_HOUSEHOLD_INCOME  : int  43889 43889 43889 43889 43889 43889 43889 43889 43889 43889 ...\n",
      " $ Strava_Daily             : int  1 1 1 1 1 1 1 1 1 1 ...\n",
      " $ dist_to_residential_areas: num  0.402 0.402 0.402 0.402 0.402 0.402 0.402 0.402 0.402 0.402 ...\n",
      " $ Avg_segment_speed_limit  : int  48 48 48 48 48 48 48 48 48 48 ...\n",
      " $ PCT_ONE_OR_MORE_VEH      : num  31.9 31.9 31.9 31.9 31.9 ...\n",
      " $ PCT_NON_WHITE            : num  4.13 4.13 4.13 4.13 4.13 ...\n",
      " $ AADT                     : int  33902 33902 33902 33902 33902 33902 33902 33902 33902 33902 ...\n",
      " $ Pop_per_sq_mile          : num  691 691 691 691 691 ...\n",
      " $ PCT_VETERANS             : num  3.37 3.37 3.37 3.37 3.37 ...\n",
      " $ MAG_Daily                : int  4 4 4 4 4 4 4 4 4 4 ...\n"
     ]
    }
   ],
   "source": [
    "#Use Tempe data for predictions\n",
    "test_data = read.csv(\"TBAG_Strava_Counts_with_Covariates.csv\")\n",
    "test_data = test_data[,c(\"X\",\"edge_id\",\"dist_to_green_space\",\n",
    "                         \"MEDIAN_HOUSEHOLD_INCOME\",\"Strava_Daily\",\n",
    "                         \"dist_to_residential_areas\",\"Avg_segment_speed_limit\",\n",
    "                         \"PCT_ONE_OR_MORE_VEH\",\"PCT_NON_WHITE\",\"AADT\",\n",
    "                         \"Pop_per_sq_mile\",\"PCT_VETERANS\",\"MAG_Daily\")]\n",
    "str(test_data)"
   ]
  },
  {
   "cell_type": "code",
   "execution_count": 16,
   "metadata": {
    "scrolled": false
   },
   "outputs": [
    {
     "name": "stdout",
     "output_type": "stream",
     "text": [
      "'data.frame':\t47296 obs. of  12 variables:\n",
      " $ X                        : int  0 1 2 3 4 5 6 7 8 9 ...\n",
      " $ edge_id                  : int  381576 381576 381576 381576 381576 381576 381576 381576 381576 381576 ...\n",
      " $ dist_to_green_space      : num  0.028 0.028 0.028 0.028 0.028 0.028 0.028 0.028 0.028 0.028 ...\n",
      " $ MEDIAN_HOUSEHOLD_INCOME  : int  43889 43889 43889 43889 43889 43889 43889 43889 43889 43889 ...\n",
      " $ Strava_Daily             : int  1 1 1 1 1 1 1 1 1 1 ...\n",
      " $ dist_to_residential_areas: num  0.402 0.402 0.402 0.402 0.402 0.402 0.402 0.402 0.402 0.402 ...\n",
      " $ Avg_segment_speed_limit  : int  48 48 48 48 48 48 48 48 48 48 ...\n",
      " $ PCT_ONE_OR_MORE_VEH      : num  31.9 31.9 31.9 31.9 31.9 ...\n",
      " $ PCT_NON_WHITE            : num  4.13 4.13 4.13 4.13 4.13 ...\n",
      " $ AADT                     : int  33902 33902 33902 33902 33902 33902 33902 33902 33902 33902 ...\n",
      " $ Pop_per_sq_mile          : num  691 691 691 691 691 ...\n",
      " $ PCT_VETERANS             : num  3.37 3.37 3.37 3.37 3.37 ...\n",
      "14 x 1 Matrix of class \"dgeMatrix\"\n",
      "                                  1\n",
      "(Intercept)               5.1584329\n",
      "(Intercept)               1.0000000\n",
      "X                         1.0000013\n",
      "edge_id                   1.0000003\n",
      "dist_to_green_space       1.7503132\n",
      "MEDIAN_HOUSEHOLD_INCOME   0.9999679\n",
      "Strava_Daily              1.8434419\n",
      "dist_to_residential_areas 1.6184603\n",
      "Avg_segment_speed_limit   1.0032121\n",
      "PCT_ONE_OR_MORE_VEH       0.9928374\n",
      "PCT_NON_WHITE             0.9795159\n",
      "AADT                      0.9999988\n",
      "Pop_per_sq_mile           1.0000432\n",
      "PCT_VETERANS              1.0216525\n",
      "[1] \"Lambda for min Cross-validation error: 0.00473115781004344\"\n"
     ]
    },
    {
     "data": {
      "image/png": "[encoded data removed]",
      "text/plain": [
       "plot without title"
      ]
     },
     "metadata": {},
     "output_type": "display_data"
    },
    {
     "data": {
      "text/html": [
       "'R-squared: 0.8064'"
      ],
      "text/latex": [
       "'R-squared: 0.8064'"
      ],
      "text/markdown": [
       "'R-squared: 0.8064'"
      ],
      "text/plain": [
       "[1] \"R-squared: 0.8064\""
      ]
     },
     "metadata": {},
     "output_type": "display_data"
    },
    {
     "data": {
      "image/png": "[encoded data removed]",
      "text/plain": [
       "Plot with title \"Poisson Model Fit with TBAG Data\""
      ]
     },
     "metadata": {},
     "output_type": "display_data"
    }
   ],
   "source": [
    "True_Counts = test_data$MAG_Daily\n",
    "Predicted_Counts = glm_output(test_data,test_data)\n",
    "#Predicted_Counts = rpois(length(Predicted_Counts), lambda = Predicted_Counts)\n",
    "plot(True_Counts,Predicted_Counts,pch=16,main=\"Poisson Model Fit with TBAG Data\")\n",
    "lmfit1 = lm(Predicted_Counts~True_Counts)\n",
    "lmfit = lm(Predicted_Counts~True_Counts-1)\n",
    "abline(lmfit1,col=\"red\",lwd=3)\n",
    "paste('R-squared:',round(summary(lmfit)$r.squared,4))"
   ]
  },
  {
   "cell_type": "code",
   "execution_count": 6,
   "metadata": {},
   "outputs": [
    {
     "name": "stdout",
     "output_type": "stream",
     "text": [
      "'data.frame':\t338 obs. of  13 variables:\n",
      " $ X                        : int  0 1 2 3 4 5 6 7 8 9 ...\n",
      " $ edge_id                  : int  28482 91886 117232 126839 129694 129695 133980 375523 375524 379692 ...\n",
      " $ dist_to_green_space      : num  0.24 0 0.404 0 0.204 ...\n",
      " $ MEDIAN_HOUSEHOLD_INCOME  : num  101131 65357 96607 40208 41220 ...\n",
      " $ Strava_Daily             : num  9.23 0 5.31 1.33 3.46 ...\n",
      " $ dist_to_residential_areas: num  0.0291 0 0.0146 0.0016 0 ...\n",
      " $ Avg_segment_speed_limit  : num  60 50 70 40 40 40 40 64 64 40 ...\n",
      " $ PCT_ONE_OR_MORE_VEH      : num  33.3 33.3 33.3 29.9 27.6 ...\n",
      " $ PCT_NON_WHITE            : num  3.19 15.7 6.18 28.17 24.26 ...\n",
      " $ AADT                     : num  6586 8979 12418 10039 16901 ...\n",
      " $ Pop_per_sq_mile          : num  390 11882 1262 3220 4564 ...\n",
      " $ PCT_VETERANS             : num  13.02 4.11 12.52 3.01 4.8 ...\n",
      " $ MAG_Daily                : num  78 59 47 49 55 55 55 55 56 18 ...\n"
     ]
    }
   ],
   "source": [
    "mag_data = read.csv(\"GLM_Model_Input_April25_run2.csv\")\n",
    "mag_data = mag_data[,c(\"X\",\"edge_id\",\"dist_to_green_space\",\"MEDIAN_HOUSEHOLD_INCOME\",\n",
    "                        \"Strava_Daily\",\"dist_to_residential_areas\",\"Avg_segment_speed_limit\",\n",
    "                        \"PCT_ONE_OR_MORE_VEH\",\"PCT_NON_WHITE\",\"AADT\",\"Pop_per_sq_mile\",\n",
    "                        \"PCT_VETERANS\",\"MAG_Daily\")]\n",
    "str(mag_data)"
   ]
  },
  {
   "cell_type": "code",
   "execution_count": 7,
   "metadata": {},
   "outputs": [
    {
     "name": "stdout",
     "output_type": "stream",
     "text": [
      "'data.frame':\t37048 obs. of  12 variables:\n",
      " $ X                        : int  0 1 2 3 4 5 6 7 8 9 ...\n",
      " $ edge_id                  : int  48 48 50 51 51 51 51 52 52 53 ...\n",
      " $ dist_to_green_space      : num  0.00356 0.00356 0.00118 0.00532 0.00532 ...\n",
      " $ MEDIAN_HOUSEHOLD_INCOME  : num  106979 106979 106979 41985 41985 ...\n",
      " $ Strava_Daily             : int  2 1 1 3 2 2 1 2 2 2 ...\n",
      " $ dist_to_residential_areas: num  0 0 0 0 0 0 0 0 0 0 ...\n",
      " $ Avg_segment_speed_limit  : int  75 75 75 0 0 0 0 75 75 0 ...\n",
      " $ PCT_ONE_OR_MORE_VEH      : num  32.9 32.9 32.9 27.8 27.8 ...\n",
      " $ PCT_NON_WHITE            : num  5.1 5.1 5.1 8.6 8.6 ...\n",
      " $ AADT                     : int  40902 40902 24541 8348 8348 8348 8348 9566 9566 0 ...\n",
      " $ Pop_per_sq_mile          : num  1873 1873 1873 1587 1587 ...\n",
      " $ PCT_VETERANS             : num  5.15 5.15 5.15 4.58 4.58 ...\n"
     ]
    }
   ],
   "source": [
    "#Predict Ridership volumes for all edges in Tempe\n",
    "street_segments_Tempe = read.csv(\"Tempe_test_data_with_covariates.csv\")\n",
    "street_segments_Tempe = street_segments_Tempe[,c(\"X\",\"edge_id\",\"dist_to_green_space\",\n",
    "                                                 \"MEDIAN_HOUSEHOLD_INCOME\",\"Strava_Daily\",\n",
    "                                                 \"dist_to_residential_areas\",\"Avg_segment_speed_limit\",\n",
    "                                                \"PCT_ONE_OR_MORE_VEH\",\"PCT_NON_WHITE\",\"AADT\",\n",
    "                                                 \"Pop_per_sq_mile\",\"PCT_VETERANS\")]\n",
    "str(street_segments_Tempe)"
   ]
  },
  {
   "cell_type": "code",
   "execution_count": 8,
   "metadata": {},
   "outputs": [
    {
     "name": "stdout",
     "output_type": "stream",
     "text": [
      "'data.frame':\t338 obs. of  12 variables:\n",
      " $ X                        : int  0 1 2 3 4 5 6 7 8 9 ...\n",
      " $ edge_id                  : int  28482 91886 117232 126839 129694 129695 133980 375523 375524 379692 ...\n",
      " $ dist_to_green_space      : num  0.24 0 0.404 0 0.204 ...\n",
      " $ MEDIAN_HOUSEHOLD_INCOME  : num  101131 65357 96607 40208 41220 ...\n",
      " $ Strava_Daily             : num  9.23 0 5.31 1.33 3.46 ...\n",
      " $ dist_to_residential_areas: num  0.0291 0 0.0146 0.0016 0 ...\n",
      " $ Avg_segment_speed_limit  : num  60 50 70 40 40 40 40 64 64 40 ...\n",
      " $ PCT_ONE_OR_MORE_VEH      : num  33.3 33.3 33.3 29.9 27.6 ...\n",
      " $ PCT_NON_WHITE            : num  3.19 15.7 6.18 28.17 24.26 ...\n",
      " $ AADT                     : num  6586 8979 12418 10039 16901 ...\n",
      " $ Pop_per_sq_mile          : num  390 11882 1262 3220 4564 ...\n",
      " $ PCT_VETERANS             : num  13.02 4.11 12.52 3.01 4.8 ...\n",
      "14 x 1 Matrix of class \"dgeMatrix\"\n",
      "                                     1\n",
      "(Intercept)               234.61229516\n",
      "(Intercept)                 1.00000000\n",
      "X                           0.99565563\n",
      "edge_id                     1.00000179\n",
      "dist_to_green_space         0.20210777\n",
      "MEDIAN_HOUSEHOLD_INCOME     0.99997581\n",
      "Strava_Daily                1.03548470\n",
      "dist_to_residential_areas   0.03316513\n",
      "Avg_segment_speed_limit     0.99778488\n",
      "PCT_ONE_OR_MORE_VEH         1.01789866\n",
      "PCT_NON_WHITE               0.96789146\n",
      "AADT                        1.00001501\n",
      "Pop_per_sq_mile             0.99995013\n",
      "PCT_VETERANS                1.00715844\n",
      "[1] \"Lambda for min Cross-validation error: 0.0493067336800375\"\n"
     ]
    },
    {
     "data": {
      "image/png": "[encoded data removed]",
      "text/plain": [
       "plot without title"
      ]
     },
     "metadata": {},
     "output_type": "display_data"
    }
   ],
   "source": [
    "street_segments_Tempe$Predicted_Counts = glm_output(mag_data,street_segments_Tempe)"
   ]
  },
  {
   "cell_type": "code",
   "execution_count": 9,
   "metadata": {},
   "outputs": [
    {
     "data": {
      "text/html": [
       "<table>\n",
       "<thead><tr><th scope=col>edge_id</th><th scope=col>Strava_Daily</th><th scope=col>Predicted_Counts</th></tr></thead>\n",
       "<tbody>\n",
       "\t<tr><td>48       </td><td>2        </td><td> 42.19458</td></tr>\n",
       "\t<tr><td>48       </td><td>1        </td><td> 40.57160</td></tr>\n",
       "\t<tr><td>50       </td><td>1        </td><td> 31.72015</td></tr>\n",
       "\t<tr><td>51       </td><td>3        </td><td>123.63670</td></tr>\n",
       "\t<tr><td>51       </td><td>2        </td><td>118.88112</td></tr>\n",
       "\t<tr><td>51       </td><td>2        </td><td>118.36465</td></tr>\n",
       "</tbody>\n",
       "</table>\n"
      ],
      "text/latex": [
       "\\begin{tabular}{r|lll}\n",
       " edge\\_id & Strava\\_Daily & Predicted\\_Counts\\\\\n",
       "\\hline\n",
       "\t 48        & 2         &  42.19458\\\\\n",
       "\t 48        & 1         &  40.57160\\\\\n",
       "\t 50        & 1         &  31.72015\\\\\n",
       "\t 51        & 3         & 123.63670\\\\\n",
       "\t 51        & 2         & 118.88112\\\\\n",
       "\t 51        & 2         & 118.36465\\\\\n",
       "\\end{tabular}\n"
      ],
      "text/markdown": [
       "\n",
       "edge_id | Strava_Daily | Predicted_Counts | \n",
       "|---|---|---|---|---|---|\n",
       "| 48        | 2         |  42.19458 | \n",
       "| 48        | 1         |  40.57160 | \n",
       "| 50        | 1         |  31.72015 | \n",
       "| 51        | 3         | 123.63670 | \n",
       "| 51        | 2         | 118.88112 | \n",
       "| 51        | 2         | 118.36465 | \n",
       "\n",
       "\n"
      ],
      "text/plain": [
       "  edge_id Strava_Daily Predicted_Counts\n",
       "1 48      2             42.19458       \n",
       "2 48      1             40.57160       \n",
       "3 50      1             31.72015       \n",
       "4 51      3            123.63670       \n",
       "5 51      2            118.88112       \n",
       "6 51      2            118.36465       "
      ]
     },
     "metadata": {},
     "output_type": "display_data"
    }
   ],
   "source": [
    "head(street_segments_Tempe[,c(\"edge_id\",\"Strava_Daily\",\"Predicted_Counts\")])"
   ]
  },
  {
   "cell_type": "code",
   "execution_count": 11,
   "metadata": {},
   "outputs": [
    {
     "data": {
      "image/png": "[encoded data removed]",
      "text/plain": [
       "plot without title"
      ]
     },
     "metadata": {},
     "output_type": "display_data"
    }
   ],
   "source": [
    "plot(street_segments_Tempe$Strava_Daily,rpois(length(street_segments_Tempe$Predicted_Counts),street_segments_Tempe$Predicted_Counts))"
   ]
  },
  {
   "cell_type": "code",
   "execution_count": 62,
   "metadata": {},
   "outputs": [
    {
     "data": {
      "text/html": [
       "<table>\n",
       "<thead><tr><th scope=col>edge_id</th><th scope=col>1</th><th scope=col>Predicted_Counts</th></tr></thead>\n",
       "<tbody>\n",
       "\t<tr><td>48       </td><td>0.4558809</td><td>0.4558809</td></tr>\n",
       "\t<tr><td>50       </td><td>0.3265642</td><td>0.3265642</td></tr>\n",
       "\t<tr><td>51       </td><td>4.0175646</td><td>4.0175646</td></tr>\n",
       "\t<tr><td>52       </td><td>4.6559592</td><td>4.6559592</td></tr>\n",
       "\t<tr><td>53       </td><td>3.7029978</td><td>3.7029978</td></tr>\n",
       "\t<tr><td>54       </td><td>4.6326633</td><td>4.6326633</td></tr>\n",
       "</tbody>\n",
       "</table>\n"
      ],
      "text/latex": [
       "\\begin{tabular}{r|lll}\n",
       " edge\\_id & 1 & Predicted\\_Counts\\\\\n",
       "\\hline\n",
       "\t 48        & 0.4558809 & 0.4558809\\\\\n",
       "\t 50        & 0.3265642 & 0.3265642\\\\\n",
       "\t 51        & 4.0175646 & 4.0175646\\\\\n",
       "\t 52        & 4.6559592 & 4.6559592\\\\\n",
       "\t 53        & 3.7029978 & 3.7029978\\\\\n",
       "\t 54        & 4.6326633 & 4.6326633\\\\\n",
       "\\end{tabular}\n"
      ],
      "text/markdown": [
       "\n",
       "edge_id | 1 | Predicted_Counts | \n",
       "|---|---|---|---|---|---|\n",
       "| 48        | 0.4558809 | 0.4558809 | \n",
       "| 50        | 0.3265642 | 0.3265642 | \n",
       "| 51        | 4.0175646 | 4.0175646 | \n",
       "| 52        | 4.6559592 | 4.6559592 | \n",
       "| 53        | 3.7029978 | 3.7029978 | \n",
       "| 54        | 4.6326633 | 4.6326633 | \n",
       "\n",
       "\n"
      ],
      "text/plain": [
       "  edge_id 1         Predicted_Counts\n",
       "1 48      0.4558809 0.4558809       \n",
       "2 50      0.3265642 0.3265642       \n",
       "3 51      4.0175646 4.0175646       \n",
       "4 52      4.6559592 4.6559592       \n",
       "5 53      3.7029978 3.7029978       \n",
       "6 54      4.6326633 4.6326633       "
      ]
     },
     "metadata": {},
     "output_type": "display_data"
    }
   ],
   "source": [
    "df = aggregate(Predicted_Counts~edge_id,street_segments_Tempe,mean)\n",
    "df$\"Predicted_Counts\" = df$\"1\"\n",
    "head(df)"
   ]
  },
  {
   "cell_type": "code",
   "execution_count": 63,
   "metadata": {
    "collapsed": true
   },
   "outputs": [],
   "source": [
    "setwd(\"C:/Users/aroy29/Dropbox (ASU)/Strava Analysis/Data/MAG2016/Analysis_Generated_Data/Model Output\")\n",
    "write.csv(df[,c('edge_id','Predicted_Counts')],\"Predicted_Daily_Counts_Tempe_Apr23_run4.csv\")"
   ]
  },
  {
   "cell_type": "code",
   "execution_count": 85,
   "metadata": {},
   "outputs": [
    {
     "data": {
      "text/html": [
       "10405"
      ],
      "text/latex": [
       "10405"
      ],
      "text/markdown": [
       "10405"
      ],
      "text/plain": [
       "[1] 10405"
      ]
     },
     "metadata": {},
     "output_type": "display_data"
    }
   ],
   "source": [
    "nrow(subset(df,Predicted_Counts<30000))"
   ]
  },
  {
   "cell_type": "code",
   "execution_count": 19,
   "metadata": {},
   "outputs": [
    {
     "ename": "SyntaxError",
     "evalue": "invalid syntax (<ipython-input-19-16d7b9604b16>, line 2)",
     "output_type": "error",
     "traceback": [
      "\u001b[1;36m  File \u001b[1;32m\"<ipython-input-19-16d7b9604b16>\"\u001b[1;36m, line \u001b[1;32m2\u001b[0m\n\u001b[1;33m    plot(errordf$test_size,errordf$rmse_pct,pch=16,\u001b[0m\n\u001b[1;37m                ^\u001b[0m\n\u001b[1;31mSyntaxError\u001b[0m\u001b[1;31m:\u001b[0m invalid syntax\n"
     ]
    }
   ],
   "source": [
    "errordf = model_error(train_data)\n",
    "plot(errordf$test_size,errordf$rmse_pct,pch=16,\n",
    "     xlab=\"Proportion of predicted segments\",ylab=\"Error in Prediction\",\n",
    "    main=\"Variation of Model Prediction Accuracy with Amount of test data\")\n",
    "lines(loess.smooth(errordf$test_size,errordf$rmse_pct),col=\"red\", lty=7, lwd=3)"
   ]
  },
  {
   "cell_type": "code",
   "execution_count": 5,
   "metadata": {},
   "outputs": [],
   "source": [
    "#Classify Predicted Volumes based on no of segments in each category\n",
    "import os\n",
    "import numpy as np\n",
    "import pandas as pd\n",
    "import geopandas as gpd\n",
    "os.chdir(\"C:/Users/aroy29/Dropbox (ASU)/Strava Analysis/Data/MAG2016/Analysis_Generated_Data/Model Output\")\n",
    "#Function to categorize predicted outcomes to classes\n",
    "def assign_class(df,scenario):\n",
    "    scale = []\n",
    "    vol = df[\"Predicted_Counts\"]\n",
    "    if scenario==1:\n",
    "        for item in vol:\n",
    "            item = int(item)\n",
    "            if(item in range(0,3)):\n",
    "                scale.append('VL')\n",
    "            elif(item in range(3,100)):\n",
    "                scale.append('L')\n",
    "            elif(item in range(100,800)):\n",
    "                scale.append('M')\n",
    "            elif(item in range(800,1500)):\n",
    "                scale.append('H')\n",
    "            else:\n",
    "                scale.append('VH')\n",
    "    elif scenario==2:\n",
    "         for item in vol:\n",
    "            item = int(item)\n",
    "            if(item in range(0,10)):\n",
    "                scale.append('VL')\n",
    "            elif(item in range(10,200)):\n",
    "                scale.append('L')\n",
    "            elif(item in range(200,500)):\n",
    "                scale.append('M')\n",
    "            elif(item in range(500,2500)):\n",
    "                scale.append('H')\n",
    "            else:\n",
    "                scale.append('VH')\n",
    "    elif scenario==3:\n",
    "         for item in vol:\n",
    "            item = int(item)\n",
    "            if(item in range(0,5)):\n",
    "                scale.append('VL')\n",
    "            elif(item in range(5,50)):\n",
    "                scale.append('L')\n",
    "            elif(item in range(50,150)):\n",
    "                scale.append('M')\n",
    "            elif(item in range(150,1400)):\n",
    "                scale.append('H')\n",
    "            else:\n",
    "                scale.append('VH')\n",
    "    elif scenario==4:\n",
    "         for item in vol:\n",
    "            item = int(item)\n",
    "            if(item in range(0,100)):\n",
    "                scale.append('VL')\n",
    "            elif(item in range(100,400)):\n",
    "                scale.append('L')\n",
    "            elif(item in range(400,1200)):\n",
    "                scale.append('M')\n",
    "            elif(item in range(1200,2000)):\n",
    "                scale.append('H')\n",
    "            else:\n",
    "                scale.append('VH')\n",
    "    elif scenario==5:\n",
    "        for item in vol:\n",
    "            item = int(item)\n",
    "            if(item in range(0,400)):\n",
    "                scale.append('VL')\n",
    "            elif(item in range(400,700)):\n",
    "                scale.append('L')\n",
    "            elif(item in range(700,1000)):\n",
    "                scale.append('M')\n",
    "            elif(item in range(1000,1700)):\n",
    "                scale.append('H')\n",
    "            else:\n",
    "                scale.append('VH')\n",
    "    else:\n",
    "         for item in vol:\n",
    "            item = int(item)\n",
    "            if(item in range(0,5)):\n",
    "                scale.append('VL')\n",
    "            elif(item in range(5,125)):\n",
    "                scale.append('L')\n",
    "            elif(item in range(125,500)):\n",
    "                scale.append('M')\n",
    "            elif(item in range(500,1500)):\n",
    "                scale.append('H')\n",
    "            else:\n",
    "                scale.append('VH')\n",
    "    return scale\n",
    "\n",
    "# Divide the TBAG data into train-test split and predict the classes using svm classifier\n",
    "import itertools\n",
    "import numpy as np\n",
    "import matplotlib.pyplot as plt\n",
    "from sklearn.multiclass import OneVsRestClassifier\n",
    "from sklearn import svm, datasets\n",
    "from sklearn.model_selection import train_test_split\n",
    "from sklearn.metrics import confusion_matrix,precision_recall_curve,average_precision_score\n",
    "from sklearn.ensemble import RandomForestClassifier\n",
    "\n",
    "def generate_confusion_matrix(X_train,y_train,X_test,y_test):\n",
    "    classifier = svm.LinearSVC(random_state=0)\n",
    "    y_pred = classifier.fit(X_train, y_train).predict(X_test)\n",
    "    # Compute confusion matrix\n",
    "    cnf_matrix = confusion_matrix(y_test, y_pred)\n",
    "    print(cnf_matrix)\n",
    "    return cnf_matrix\n",
    "\n",
    "def plot_confusion_matrix(cm, classes,normalize=False,title='Confusion matrix',cmap=plt.cm.Blues):\n",
    "        \"\"\"\n",
    "        This function prints and plots the confusion matrix.\n",
    "        Normalization can be applied by setting `normalize=True`.\n",
    "        \"\"\"\n",
    "        plt.imshow(cm, interpolation='nearest', cmap=cmap)\n",
    "        plt.title(title)\n",
    "        plt.colorbar()\n",
    "        tick_marks = np.arange(len(classes))\n",
    "        plt.xticks(tick_marks, classes, rotation=45)\n",
    "        plt.yticks(tick_marks, classes)\n",
    "\n",
    "        fmt = '.2f' if normalize else 'd'\n",
    "        thresh = cm.max() / 2.\n",
    "        for i, j in itertools.product(range(cm.shape[0]), range(cm.shape[1])):\n",
    "            plt.text(j, i, format(cm[i, j], fmt),\n",
    "                     horizontalalignment=\"center\",\n",
    "                     color=\"white\" if cm[i, j] > thresh else \"black\")\n",
    "\n",
    "        plt.tight_layout()\n",
    "        plt.ylabel('True label')\n",
    "        plt.xlabel('Predicted label')"
   ]
  },
  {
   "cell_type": "code",
   "execution_count": 25,
   "metadata": {},
   "outputs": [
    {
     "name": "stdout",
     "output_type": "stream",
     "text": [
      "1.55988329328e+290\n"
     ]
    },
    {
     "data": {
      "text/html": [
       "<div>\n",
       "<table border=\"1\" class=\"dataframe\">\n",
       "  <thead>\n",
       "    <tr style=\"text-align: right;\">\n",
       "      <th></th>\n",
       "      <th>Predicted_Counts</th>\n",
       "      <th>edge_id</th>\n",
       "      <th>scenario1</th>\n",
       "      <th>scenario2</th>\n",
       "      <th>scenario3</th>\n",
       "      <th>scenario4</th>\n",
       "      <th>scenario5</th>\n",
       "      <th>scenario6</th>\n",
       "    </tr>\n",
       "  </thead>\n",
       "  <tbody>\n",
       "    <tr>\n",
       "      <th>0</th>\n",
       "      <td>0.455881</td>\n",
       "      <td>48</td>\n",
       "      <td>VL</td>\n",
       "      <td>VL</td>\n",
       "      <td>VL</td>\n",
       "      <td>VL</td>\n",
       "      <td>VL</td>\n",
       "      <td>VL</td>\n",
       "    </tr>\n",
       "    <tr>\n",
       "      <th>1</th>\n",
       "      <td>0.326564</td>\n",
       "      <td>50</td>\n",
       "      <td>VL</td>\n",
       "      <td>VL</td>\n",
       "      <td>VL</td>\n",
       "      <td>VL</td>\n",
       "      <td>VL</td>\n",
       "      <td>VL</td>\n",
       "    </tr>\n",
       "    <tr>\n",
       "      <th>2</th>\n",
       "      <td>4.017565</td>\n",
       "      <td>51</td>\n",
       "      <td>L</td>\n",
       "      <td>VL</td>\n",
       "      <td>VL</td>\n",
       "      <td>VL</td>\n",
       "      <td>VL</td>\n",
       "      <td>VL</td>\n",
       "    </tr>\n",
       "    <tr>\n",
       "      <th>3</th>\n",
       "      <td>4.655959</td>\n",
       "      <td>52</td>\n",
       "      <td>L</td>\n",
       "      <td>VL</td>\n",
       "      <td>VL</td>\n",
       "      <td>VL</td>\n",
       "      <td>VL</td>\n",
       "      <td>VL</td>\n",
       "    </tr>\n",
       "    <tr>\n",
       "      <th>4</th>\n",
       "      <td>3.702998</td>\n",
       "      <td>53</td>\n",
       "      <td>L</td>\n",
       "      <td>VL</td>\n",
       "      <td>VL</td>\n",
       "      <td>VL</td>\n",
       "      <td>VL</td>\n",
       "      <td>VL</td>\n",
       "    </tr>\n",
       "  </tbody>\n",
       "</table>\n",
       "</div>"
      ],
      "text/plain": [
       "   Predicted_Counts  edge_id scenario1 scenario2 scenario3 scenario4  \\\n",
       "0          0.455881       48        VL        VL        VL        VL   \n",
       "1          0.326564       50        VL        VL        VL        VL   \n",
       "2          4.017565       51         L        VL        VL        VL   \n",
       "3          4.655959       52         L        VL        VL        VL   \n",
       "4          3.702998       53         L        VL        VL        VL   \n",
       "\n",
       "  scenario5 scenario6  \n",
       "0        VL        VL  \n",
       "1        VL        VL  \n",
       "2        VL        VL  \n",
       "3        VL        VL  \n",
       "4        VL        VL  "
      ]
     },
     "execution_count": 25,
     "metadata": {},
     "output_type": "execute_result"
    }
   ],
   "source": [
    "#Read predicted outcome for tBAg data from file\n",
    "tbag_predicted = pd.read_csv(\"Predicted_Daily_Counts_Tempe_Apr23_run4.csv\")\n",
    "tbag_predicted = tbag_predicted[tbag_predicted.columns.difference([\"Unnamed: 0\"])]\n",
    "print(max(tbag_predicted.Predicted_Counts))\n",
    "#Generating classes with 5 scenarios\n",
    "tbag_predicted[\"scenario1\"] = assign_class(tbag_predicted,1)\n",
    "tbag_predicted[\"scenario2\"] = assign_class(tbag_predicted,2)\n",
    "tbag_predicted[\"scenario3\"] = assign_class(tbag_predicted,3)\n",
    "tbag_predicted[\"scenario4\"] = assign_class(tbag_predicted,4)\n",
    "tbag_predicted[\"scenario5\"] = assign_class(tbag_predicted,5)\n",
    "tbag_predicted[\"scenario6\"] = assign_class(tbag_predicted,6)\n",
    "tbag_predicted.head()"
   ]
  },
  {
   "cell_type": "code",
   "execution_count": 23,
   "metadata": {},
   "outputs": [
    {
     "data": {
      "text/plain": [
       "<matplotlib.axes._subplots.AxesSubplot at 0x1d8847f0>"
      ]
     },
     "execution_count": 23,
     "metadata": {},
     "output_type": "execute_result"
    },
    {
     "data": {
      "image/png": "[encoded data removed]",
      "text/plain": [
       "<matplotlib.figure.Figure at 0x1d755940>"
      ]
     },
     "metadata": {},
     "output_type": "display_data"
    }
   ],
   "source": [
    "tbag_predicted[\"Predicted_Counts\"].hist(bins=50)"
   ]
  },
  {
   "cell_type": "code",
   "execution_count": 18,
   "metadata": {},
   "outputs": [
    {
     "data": {
      "text/plain": [
       "<matplotlib.axes._subplots.AxesSubplot at 0x1b826cf8>"
      ]
     },
     "execution_count": 18,
     "metadata": {},
     "output_type": "execute_result"
    },
    {
     "data": {
      "image/png": "[encoded data removed]",
      "text/plain": [
       "<matplotlib.figure.Figure at 0x1b6fff28>"
      ]
     },
     "metadata": {},
     "output_type": "display_data"
    }
   ],
   "source": [
    "x = tbag_predicted.query(\"Predicted_Counts<150\").Predicted_Counts\n",
    "x.hist(bins=500)"
   ]
  },
  {
   "cell_type": "code",
   "execution_count": null,
   "metadata": {},
   "outputs": [],
   "source": [
    "#Read the data and create a train-test split\n",
    "X = np.array(tbag_predicted[[\"edge_id\",\"Predicted_Counts\"]])\n",
    "y = np.array(y_scenario)\n",
    "\n",
    "# Split the data into a training set and a test set\n",
    "X_train, X_test, y_train, y_test = train_test_split(X, y,test_size=0.45, random_state=0)\n",
    "\n",
    "#Create class labels\n",
    "class_names = [\"Very Low\",\"Low\",\"Medium\",\"High\",\"Very High\"]"
   ]
  },
  {
   "cell_type": "code",
   "execution_count": 118,
   "metadata": {},
   "outputs": [
    {
     "name": "stdout",
     "output_type": "stream",
     "text": [
      "[[   0   40    0    0    0]\n",
      " [  29  609    0    0 1406]\n",
      " [   2  227    0    0    0]\n",
      " [   0   37    0 1167    0]\n",
      " [   0   19    0    0 2150]]\n"
     ]
    },
    {
     "data": {
      "image/png": "[encoded data removed]",
      "text/plain": [
       "<matplotlib.figure.Figure at 0x1baffef0>"
      ]
     },
     "metadata": {},
     "output_type": "display_data"
    }
   ],
   "source": [
    "cnf1 = generate_confusion_matrix(tbag_predicted.scenario1,1)\n",
    "# Plot non-normalized confusion matrix\n",
    "plt.figure()\n",
    "plot_confusion_matrix(cnf1, classes=class_names,title='Confusion matrix-Scenario1')\n",
    "plt.show()"
   ]
  },
  {
   "cell_type": "code",
   "execution_count": 139,
   "metadata": {},
   "outputs": [
    {
     "data": {
      "text/plain": [
       "3926"
      ]
     },
     "execution_count": 139,
     "metadata": {},
     "output_type": "execute_result"
    }
   ],
   "source": [
    "np.sum(cnf1.diagonal())"
   ]
  },
  {
   "cell_type": "code",
   "execution_count": 140,
   "metadata": {},
   "outputs": [
    {
     "data": {
      "text/plain": [
       "5686"
      ]
     },
     "execution_count": 140,
     "metadata": {},
     "output_type": "execute_result"
    }
   ],
   "source": [
    "np.sum(cnf1)"
   ]
  },
  {
   "cell_type": "code",
   "execution_count": 88,
   "metadata": {},
   "outputs": [
    {
     "data": {
      "text/html": [
       "<div>\n",
       "<table border=\"1\" class=\"dataframe\">\n",
       "  <thead>\n",
       "    <tr style=\"text-align: right;\">\n",
       "      <th></th>\n",
       "      <th>edge_id</th>\n",
       "    </tr>\n",
       "    <tr>\n",
       "      <th>scenario2</th>\n",
       "      <th></th>\n",
       "    </tr>\n",
       "  </thead>\n",
       "  <tbody>\n",
       "    <tr>\n",
       "      <th>H</th>\n",
       "      <td>0.019946</td>\n",
       "    </tr>\n",
       "    <tr>\n",
       "      <th>L</th>\n",
       "      <td>0.154266</td>\n",
       "    </tr>\n",
       "    <tr>\n",
       "      <th>M</th>\n",
       "      <td>0.015197</td>\n",
       "    </tr>\n",
       "    <tr>\n",
       "      <th>VH</th>\n",
       "      <td>0.201757</td>\n",
       "    </tr>\n",
       "    <tr>\n",
       "      <th>VL</th>\n",
       "      <td>0.608833</td>\n",
       "    </tr>\n",
       "  </tbody>\n",
       "</table>\n",
       "</div>"
      ],
      "text/plain": [
       "            edge_id\n",
       "scenario2          \n",
       "H          0.019946\n",
       "L          0.154266\n",
       "M          0.015197\n",
       "VH         0.201757\n",
       "VL         0.608833"
      ]
     },
     "execution_count": 88,
     "metadata": {},
     "output_type": "execute_result"
    }
   ],
   "source": [
    "tbag_predicted[[\"edge_id\",\"scenario2\"]].groupby([\"scenario2\"]).count()/len(tbag_predicted)"
   ]
  },
  {
   "cell_type": "code",
   "execution_count": 149,
   "metadata": {},
   "outputs": [
    {
     "name": "stdout",
     "output_type": "stream",
     "text": [
      "[[   0    0    0   90   17]\n",
      " [   0  505    0    2  346]\n",
      " [   0    9    0   32   56]\n",
      " [   0    0    0 1177    0]\n",
      " [   0 2876    0    0  576]]\n"
     ]
    },
    {
     "data": {
      "image/png": "[encoded data removed]",
      "text/plain": [
       "<matplotlib.figure.Figure at 0x1a2edba8>"
      ]
     },
     "metadata": {},
     "output_type": "display_data"
    }
   ],
   "source": [
    "cnf2 = generate_confusion_matrix(tbag_predicted.scenario2,2)\n",
    "plt.figure()\n",
    "plot_confusion_matrix(cnf2, classes=class_names,title='Confusion matrix-Scenario2')\n",
    "plt.show()"
   ]
  },
  {
   "cell_type": "code",
   "execution_count": 150,
   "metadata": {},
   "outputs": [
    {
     "data": {
      "text/plain": [
       "2258"
      ]
     },
     "execution_count": 150,
     "metadata": {},
     "output_type": "execute_result"
    }
   ],
   "source": [
    "np.sum(cnf2.diagonal())"
   ]
  },
  {
   "cell_type": "code",
   "execution_count": 144,
   "metadata": {},
   "outputs": [
    {
     "data": {
      "text/plain": [
       "5686"
      ]
     },
     "execution_count": 144,
     "metadata": {},
     "output_type": "execute_result"
    }
   ],
   "source": [
    "np.sum(cnf2)"
   ]
  },
  {
   "cell_type": "code",
   "execution_count": 90,
   "metadata": {},
   "outputs": [
    {
     "data": {
      "text/html": [
       "<div>\n",
       "<table border=\"1\" class=\"dataframe\">\n",
       "  <thead>\n",
       "    <tr style=\"text-align: right;\">\n",
       "      <th></th>\n",
       "      <th>edge_id</th>\n",
       "    </tr>\n",
       "    <tr>\n",
       "      <th>scenario3</th>\n",
       "      <th></th>\n",
       "    </tr>\n",
       "  </thead>\n",
       "  <tbody>\n",
       "    <tr>\n",
       "      <th>H</th>\n",
       "      <td>0.035618</td>\n",
       "    </tr>\n",
       "    <tr>\n",
       "      <th>L</th>\n",
       "      <td>0.215846</td>\n",
       "    </tr>\n",
       "    <tr>\n",
       "      <th>M</th>\n",
       "      <td>0.032452</td>\n",
       "    </tr>\n",
       "    <tr>\n",
       "      <th>VH</th>\n",
       "      <td>0.207852</td>\n",
       "    </tr>\n",
       "    <tr>\n",
       "      <th>VL</th>\n",
       "      <td>0.508232</td>\n",
       "    </tr>\n",
       "  </tbody>\n",
       "</table>\n",
       "</div>"
      ],
      "text/plain": [
       "            edge_id\n",
       "scenario3          \n",
       "H          0.035618\n",
       "L          0.215846\n",
       "M          0.032452\n",
       "VH         0.207852\n",
       "VL         0.508232"
      ]
     },
     "execution_count": 90,
     "metadata": {},
     "output_type": "execute_result"
    }
   ],
   "source": [
    "tbag_predicted[[\"edge_id\",\"scenario3\"]].groupby([\"scenario3\"]).count()/len(tbag_predicted)"
   ]
  },
  {
   "cell_type": "code",
   "execution_count": 151,
   "metadata": {},
   "outputs": [
    {
     "name": "stdout",
     "output_type": "stream",
     "text": [
      "[[ 203    0    0    4    0]\n",
      " [ 142   72    0  657  328]\n",
      " [  80   12    0   73    0]\n",
      " [1208    0    0    0    0]\n",
      " [   0    0  703  246 1958]]\n"
     ]
    },
    {
     "data": {
      "image/png": "[encoded data removed]",
      "text/plain": [
       "<matplotlib.figure.Figure at 0x1aad7b00>"
      ]
     },
     "metadata": {},
     "output_type": "display_data"
    }
   ],
   "source": [
    "cnf3 = generate_confusion_matrix(tbag_predicted.scenario3,3)\n",
    "plt.figure()\n",
    "plot_confusion_matrix(cnf3, classes=class_names,title='Confusion matrix-Scenario3')\n",
    "plt.show()"
   ]
  },
  {
   "cell_type": "code",
   "execution_count": 152,
   "metadata": {},
   "outputs": [
    {
     "data": {
      "text/plain": [
       "2233"
      ]
     },
     "execution_count": 152,
     "metadata": {},
     "output_type": "execute_result"
    }
   ],
   "source": [
    "np.sum(cnf3.diagonal())"
   ]
  },
  {
   "cell_type": "code",
   "execution_count": 92,
   "metadata": {},
   "outputs": [
    {
     "data": {
      "text/html": [
       "<div>\n",
       "<table border=\"1\" class=\"dataframe\">\n",
       "  <thead>\n",
       "    <tr style=\"text-align: right;\">\n",
       "      <th></th>\n",
       "      <th>edge_id</th>\n",
       "    </tr>\n",
       "    <tr>\n",
       "      <th>scenario4</th>\n",
       "      <th></th>\n",
       "    </tr>\n",
       "  </thead>\n",
       "  <tbody>\n",
       "    <tr>\n",
       "      <th>H</th>\n",
       "      <td>0.005541</td>\n",
       "    </tr>\n",
       "    <tr>\n",
       "      <th>L</th>\n",
       "      <td>0.030632</td>\n",
       "    </tr>\n",
       "    <tr>\n",
       "      <th>M</th>\n",
       "      <td>0.014880</td>\n",
       "    </tr>\n",
       "    <tr>\n",
       "      <th>VH</th>\n",
       "      <td>0.204290</td>\n",
       "    </tr>\n",
       "    <tr>\n",
       "      <th>VL</th>\n",
       "      <td>0.744657</td>\n",
       "    </tr>\n",
       "  </tbody>\n",
       "</table>\n",
       "</div>"
      ],
      "text/plain": [
       "            edge_id\n",
       "scenario4          \n",
       "H          0.005541\n",
       "L          0.030632\n",
       "M          0.014880\n",
       "VH         0.204290\n",
       "VL         0.744657"
      ]
     },
     "execution_count": 92,
     "metadata": {},
     "output_type": "execute_result"
    }
   ],
   "source": [
    "tbag_predicted[[\"edge_id\",\"scenario4\"]].groupby([\"scenario4\"]).count()/len(tbag_predicted)"
   ]
  },
  {
   "cell_type": "code",
   "execution_count": 153,
   "metadata": {},
   "outputs": [
    {
     "name": "stdout",
     "output_type": "stream",
     "text": [
      "[[   0    0    0   19    6]\n",
      " [   0    0    0    0  170]\n",
      " [   0    0    0    7   82]\n",
      " [   0    0    0 1179   10]\n",
      " [   0    0    0    0 4213]]\n"
     ]
    },
    {
     "data": {
      "image/png": "[encoded data removed]",
      "text/plain": [
       "<matplotlib.figure.Figure at 0x1aad70b8>"
      ]
     },
     "metadata": {},
     "output_type": "display_data"
    }
   ],
   "source": [
    "cnf4 = generate_confusion_matrix(tbag_predicted.scenario4,4)\n",
    "plt.figure()\n",
    "plot_confusion_matrix(cnf4, classes=class_names,title='Confusion matrix-Scenario4')\n",
    "plt.show()"
   ]
  },
  {
   "cell_type": "code",
   "execution_count": 148,
   "metadata": {},
   "outputs": [
    {
     "data": {
      "text/plain": [
       "5392"
      ]
     },
     "execution_count": 148,
     "metadata": {},
     "output_type": "execute_result"
    }
   ],
   "source": [
    "np.sum(cnf4.diagonal())"
   ]
  },
  {
   "cell_type": "code",
   "execution_count": 94,
   "metadata": {},
   "outputs": [
    {
     "data": {
      "text/html": [
       "<div>\n",
       "<table border=\"1\" class=\"dataframe\">\n",
       "  <thead>\n",
       "    <tr style=\"text-align: right;\">\n",
       "      <th></th>\n",
       "      <th>edge_id</th>\n",
       "    </tr>\n",
       "    <tr>\n",
       "      <th>scenario5</th>\n",
       "      <th></th>\n",
       "    </tr>\n",
       "  </thead>\n",
       "  <tbody>\n",
       "    <tr>\n",
       "      <th>H</th>\n",
       "      <td>0.006490</td>\n",
       "    </tr>\n",
       "    <tr>\n",
       "      <th>L</th>\n",
       "      <td>0.007599</td>\n",
       "    </tr>\n",
       "    <tr>\n",
       "      <th>M</th>\n",
       "      <td>0.004670</td>\n",
       "    </tr>\n",
       "    <tr>\n",
       "      <th>VH</th>\n",
       "      <td>0.205952</td>\n",
       "    </tr>\n",
       "    <tr>\n",
       "      <th>VL</th>\n",
       "      <td>0.775289</td>\n",
       "    </tr>\n",
       "  </tbody>\n",
       "</table>\n",
       "</div>"
      ],
      "text/plain": [
       "            edge_id\n",
       "scenario5          \n",
       "H          0.006490\n",
       "L          0.007599\n",
       "M          0.004670\n",
       "VH         0.205952\n",
       "VL         0.775289"
      ]
     },
     "execution_count": 94,
     "metadata": {},
     "output_type": "execute_result"
    }
   ],
   "source": [
    "tbag_predicted[[\"edge_id\",\"scenario5\"]].groupby([\"scenario5\"]).count()/len(tbag_predicted)"
   ]
  },
  {
   "cell_type": "code",
   "execution_count": 154,
   "metadata": {},
   "outputs": [
    {
     "name": "stdout",
     "output_type": "stream",
     "text": [
      "[[   0    0   32    0    0]\n",
      " [   0    0   44    0    0]\n",
      " [   0    0   28    0    0]\n",
      " [   0    0 1199    0    0]\n",
      " [   0    0 4284    0   99]]\n"
     ]
    },
    {
     "data": {
      "image/png": "[encoded data removed]",
      "text/plain": [
       "<matplotlib.figure.Figure at 0x1adb9c88>"
      ]
     },
     "metadata": {},
     "output_type": "display_data"
    }
   ],
   "source": [
    "cnf5 = generate_confusion_matrix(tbag_predicted.scenario5,5)\n",
    "plt.figure()\n",
    "plot_confusion_matrix(cnf5, classes=class_names,title='Confusion matrix-Scenario5')\n",
    "plt.show()"
   ]
  },
  {
   "cell_type": "code",
   "execution_count": 155,
   "metadata": {},
   "outputs": [
    {
     "data": {
      "text/plain": [
       "127"
      ]
     },
     "execution_count": 155,
     "metadata": {},
     "output_type": "execute_result"
    }
   ],
   "source": [
    "np.sum(cnf5.diagonal())"
   ]
  },
  {
   "cell_type": "code",
   "execution_count": 95,
   "metadata": {},
   "outputs": [
    {
     "data": {
      "text/html": [
       "<div>\n",
       "<table border=\"1\" class=\"dataframe\">\n",
       "  <thead>\n",
       "    <tr style=\"text-align: right;\">\n",
       "      <th></th>\n",
       "      <th>edge_id</th>\n",
       "    </tr>\n",
       "    <tr>\n",
       "      <th>scenario6</th>\n",
       "      <th></th>\n",
       "    </tr>\n",
       "  </thead>\n",
       "  <tbody>\n",
       "    <tr>\n",
       "      <th>H</th>\n",
       "      <td>0.014643</td>\n",
       "    </tr>\n",
       "    <tr>\n",
       "      <th>L</th>\n",
       "      <td>0.243391</td>\n",
       "    </tr>\n",
       "    <tr>\n",
       "      <th>M</th>\n",
       "      <td>0.026674</td>\n",
       "    </tr>\n",
       "    <tr>\n",
       "      <th>VH</th>\n",
       "      <td>0.207060</td>\n",
       "    </tr>\n",
       "    <tr>\n",
       "      <th>VL</th>\n",
       "      <td>0.508232</td>\n",
       "    </tr>\n",
       "  </tbody>\n",
       "</table>\n",
       "</div>"
      ],
      "text/plain": [
       "            edge_id\n",
       "scenario6          \n",
       "H          0.014643\n",
       "L          0.243391\n",
       "M          0.026674\n",
       "VH         0.207060\n",
       "VL         0.508232"
      ]
     },
     "execution_count": 95,
     "metadata": {},
     "output_type": "execute_result"
    }
   ],
   "source": [
    "tbag_predicted[[\"edge_id\",\"scenario6\"]].groupby([\"scenario6\"]).count()/len(tbag_predicted)"
   ]
  },
  {
   "cell_type": "code",
   "execution_count": 156,
   "metadata": {},
   "outputs": [
    {
     "name": "stdout",
     "output_type": "stream",
     "text": [
      "[[  80    0    0    0    0]\n",
      " [1336    1    0    0    2]\n",
      " [ 155    1    0    0    0]\n",
      " [1178    0    0   26    0]\n",
      " [2847    0    0    0   60]]\n"
     ]
    },
    {
     "data": {
      "image/png": "[encoded data removed]",
      "text/plain": [
       "<matplotlib.figure.Figure at 0x1a848a20>"
      ]
     },
     "metadata": {},
     "output_type": "display_data"
    }
   ],
   "source": [
    "cnf6 = generate_confusion_matrix(tbag_predicted.scenario6,6)\n",
    "plt.figure()\n",
    "plot_confusion_matrix(cnf6, classes=class_names,title='Confusion matrix-Scenario6')\n",
    "plt.show()"
   ]
  },
  {
   "cell_type": "code",
   "execution_count": 157,
   "metadata": {},
   "outputs": [
    {
     "data": {
      "text/plain": [
       "167"
      ]
     },
     "execution_count": 157,
     "metadata": {},
     "output_type": "execute_result"
    }
   ],
   "source": [
    "np.sum(cnf6.diagonal())"
   ]
  }
 ],
 "metadata": {
  "kernelspec": {
   "display_name": "Python 2",
   "language": "python",
   "name": "python2"
  },
  "language_info": {
   "codemirror_mode": {
    "name": "ipython",
    "version": 2
   },
   "file_extension": ".py",
   "mimetype": "text/x-python",
   "name": "python",
   "nbconvert_exporter": "python",
   "pygments_lexer": "ipython2",
   "version": "2.7.13"
  }
 },
 "nbformat": 4,
 "nbformat_minor": 2
}
